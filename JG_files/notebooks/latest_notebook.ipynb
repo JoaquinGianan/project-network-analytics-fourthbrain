{
 "cells": [
  {
   "cell_type": "code",
   "execution_count": 1,
   "metadata": {},
   "outputs": [],
   "source": [
    "import joblib\n",
    "import pandas as pd \n",
    "import numpy as np\n",
    "\n",
    "from sklearn.metrics import classification_report\n",
    "\n",
    "import json\n",
    "\n",
    "import re\n"
   ]
  },
  {
   "cell_type": "code",
   "execution_count": 2,
   "metadata": {},
   "outputs": [
    {
     "data": {
      "text/plain": [
       "{1: 'Blackhole',\n",
       " 2: 'Diversion',\n",
       " 3: 'Normal',\n",
       " 4: 'Overflow',\n",
       " 5: 'PortScan',\n",
       " 0: 'TCP-SYN'}"
      ]
     },
     "execution_count": 2,
     "metadata": {},
     "output_type": "execute_result"
    }
   ],
   "source": [
    "results_dict = {key : value for key, value in zip([1 , 2, 3, 4, 5, 0], ['Blackhole', 'Diversion', 'Normal', 'Overflow', 'PortScan', 'TCP-SYN'])}\n",
    "results_dict"
   ]
  },
  {
   "cell_type": "code",
   "execution_count": 3,
   "metadata": {},
   "outputs": [],
   "source": [
    "model_2 = joblib.load(\"model_jg_01.joblib\")"
   ]
  },
  {
   "cell_type": "code",
   "execution_count": 4,
   "metadata": {},
   "outputs": [],
   "source": [
    "X_red_new_test_cat = pd.read_csv(\"../data/processed/X_red_new_test_cat.csv\")"
   ]
  },
  {
   "cell_type": "code",
   "execution_count": 5,
   "metadata": {},
   "outputs": [],
   "source": [
    "y_red_new_test_cat = pd.read_csv(\"../data/processed/y_red_new_test_cat.csv\")"
   ]
  },
  {
   "cell_type": "code",
   "execution_count": 6,
   "metadata": {},
   "outputs": [
    {
     "data": {
      "text/plain": [
       "pandas.core.frame.DataFrame"
      ]
     },
     "execution_count": 6,
     "metadata": {},
     "output_type": "execute_result"
    }
   ],
   "source": [
    "sam = 345\n",
    "sample1 = X_red_new_test_cat.iloc[[sam]]\n",
    "tag1 = y_red_new_test_cat.iloc[[sam]]\n",
    "type(sample1)"
   ]
  },
  {
   "cell_type": "code",
   "execution_count": 12,
   "metadata": {},
   "outputs": [
    {
     "data": {
      "text/html": [
       "<div>\n",
       "<style scoped>\n",
       "    .dataframe tbody tr th:only-of-type {\n",
       "        vertical-align: middle;\n",
       "    }\n",
       "\n",
       "    .dataframe tbody tr th {\n",
       "        vertical-align: top;\n",
       "    }\n",
       "\n",
       "    .dataframe thead th {\n",
       "        text-align: right;\n",
       "    }\n",
       "</style>\n",
       "<table border=\"1\" class=\"dataframe\">\n",
       "  <thead>\n",
       "    <tr style=\"text-align: right;\">\n",
       "      <th></th>\n",
       "      <th>Received Packets</th>\n",
       "      <th>Received Bytes</th>\n",
       "      <th>Sent Bytes</th>\n",
       "      <th>Sent Packets</th>\n",
       "      <th>Port alive Duration (S)</th>\n",
       "      <th>Delta Received Packets</th>\n",
       "      <th>Delta Received Bytes</th>\n",
       "      <th>Delta Sent Bytes</th>\n",
       "      <th>Delta Sent Packets</th>\n",
       "      <th>Total Load/Rate</th>\n",
       "      <th>Total Load/Latest</th>\n",
       "      <th>Unknown Load/Rate</th>\n",
       "      <th>Unknown Load/Latest</th>\n",
       "      <th>Latest bytes counter</th>\n",
       "      <th>Packets Looked Up</th>\n",
       "      <th>Packets Matched</th>\n",
       "    </tr>\n",
       "  </thead>\n",
       "  <tbody>\n",
       "    <tr>\n",
       "      <th>345</th>\n",
       "      <td>449</td>\n",
       "      <td>6335491</td>\n",
       "      <td>33279</td>\n",
       "      <td>289</td>\n",
       "      <td>284</td>\n",
       "      <td>4</td>\n",
       "      <td>556</td>\n",
       "      <td>560</td>\n",
       "      <td>4</td>\n",
       "      <td>0</td>\n",
       "      <td>0</td>\n",
       "      <td>0</td>\n",
       "      <td>0</td>\n",
       "      <td>0</td>\n",
       "      <td>2494</td>\n",
       "      <td>2338</td>\n",
       "    </tr>\n",
       "  </tbody>\n",
       "</table>\n",
       "</div>"
      ],
      "text/plain": [
       "     Received Packets  Received Bytes  Sent Bytes  Sent Packets  \\\n",
       "345               449         6335491       33279           289   \n",
       "\n",
       "     Port alive Duration (S)  Delta Received Packets  Delta Received Bytes  \\\n",
       "345                      284                       4                   556   \n",
       "\n",
       "     Delta Sent Bytes  Delta Sent Packets  Total Load/Rate  Total Load/Latest  \\\n",
       "345               560                   4                0                  0   \n",
       "\n",
       "     Unknown Load/Rate  Unknown Load/Latest  Latest bytes counter  \\\n",
       "345                  0                    0                     0   \n",
       "\n",
       "     Packets Looked Up  Packets Matched  \n",
       "345               2494             2338  "
      ]
     },
     "execution_count": 12,
     "metadata": {},
     "output_type": "execute_result"
    }
   ],
   "source": [
    "sample1"
   ]
  },
  {
   "cell_type": "code",
   "execution_count": 58,
   "metadata": {},
   "outputs": [
    {
     "data": {
      "text/plain": [
       "2"
      ]
     },
     "execution_count": 58,
     "metadata": {},
     "output_type": "execute_result"
    }
   ],
   "source": [
    "int(tag1.values)"
   ]
  },
  {
   "cell_type": "markdown",
   "metadata": {},
   "source": [
    "<span style= \"color:blue\"> save pd dataframe as joblib. </span>"
   ]
  },
  {
   "cell_type": "code",
   "execution_count": 132,
   "metadata": {},
   "outputs": [
    {
     "data": {
      "text/plain": [
       "['../src/sample01.joblib']"
      ]
     },
     "execution_count": 132,
     "metadata": {},
     "output_type": "execute_result"
    }
   ],
   "source": [
    "joblib.dump(sample1, \"../src/sample01.joblib\")"
   ]
  },
  {
   "cell_type": "code",
   "execution_count": 133,
   "metadata": {},
   "outputs": [],
   "source": [
    "sample1.to_csv(\"../src/sample01.csv\", index=False)"
   ]
  },
  {
   "cell_type": "code",
   "execution_count": 7,
   "metadata": {},
   "outputs": [
    {
     "data": {
      "text/plain": [
       "'Diversion'"
      ]
     },
     "execution_count": 7,
     "metadata": {},
     "output_type": "execute_result"
    }
   ],
   "source": [
    "# results_dict[model.predict(single_data_sample)]\n",
    "results_demo = results_dict[model_2.predict(sample1)[0]]\n",
    "results_demo"
   ]
  },
  {
   "cell_type": "markdown",
   "metadata": {},
   "source": [
    "## <span style = \"color:gray\"> resort a sample and see the prediction </span>"
   ]
  },
  {
   "cell_type": "code",
   "execution_count": 26,
   "metadata": {},
   "outputs": [
    {
     "data": {
      "text/html": [
       "<div>\n",
       "<style scoped>\n",
       "    .dataframe tbody tr th:only-of-type {\n",
       "        vertical-align: middle;\n",
       "    }\n",
       "\n",
       "    .dataframe tbody tr th {\n",
       "        vertical-align: top;\n",
       "    }\n",
       "\n",
       "    .dataframe thead th {\n",
       "        text-align: right;\n",
       "    }\n",
       "</style>\n",
       "<table border=\"1\" class=\"dataframe\">\n",
       "  <thead>\n",
       "    <tr style=\"text-align: right;\">\n",
       "      <th></th>\n",
       "      <th>Label</th>\n",
       "    </tr>\n",
       "  </thead>\n",
       "  <tbody>\n",
       "    <tr>\n",
       "      <th>2001</th>\n",
       "      <td>2</td>\n",
       "    </tr>\n",
       "  </tbody>\n",
       "</table>\n",
       "</div>"
      ],
      "text/plain": [
       "      Label\n",
       "2001      2"
      ]
     },
     "execution_count": 26,
     "metadata": {},
     "output_type": "execute_result"
    }
   ],
   "source": [
    "sam = 2001\n",
    "sample_straight = X_red_new_test_cat.iloc[[sam]]\n",
    "tag_straight = y_red_new_test_cat.iloc[[sam]]\n",
    "tag_straight"
   ]
  },
  {
   "cell_type": "code",
   "execution_count": 27,
   "metadata": {},
   "outputs": [],
   "source": [
    "cols = list(sample_straight.columns)\n",
    "cols.sort()\n",
    " \n",
    "sample_reversed  = sample_straight[cols]\n"
   ]
  },
  {
   "cell_type": "code",
   "execution_count": 28,
   "metadata": {},
   "outputs": [
    {
     "data": {
      "text/html": [
       "<div>\n",
       "<style scoped>\n",
       "    .dataframe tbody tr th:only-of-type {\n",
       "        vertical-align: middle;\n",
       "    }\n",
       "\n",
       "    .dataframe tbody tr th {\n",
       "        vertical-align: top;\n",
       "    }\n",
       "\n",
       "    .dataframe thead th {\n",
       "        text-align: right;\n",
       "    }\n",
       "</style>\n",
       "<table border=\"1\" class=\"dataframe\">\n",
       "  <thead>\n",
       "    <tr style=\"text-align: right;\">\n",
       "      <th></th>\n",
       "      <th>Received Packets</th>\n",
       "      <th>Received Bytes</th>\n",
       "      <th>Sent Bytes</th>\n",
       "      <th>Sent Packets</th>\n",
       "      <th>Port alive Duration (S)</th>\n",
       "      <th>Delta Received Packets</th>\n",
       "      <th>Delta Received Bytes</th>\n",
       "      <th>Delta Sent Bytes</th>\n",
       "      <th>Delta Sent Packets</th>\n",
       "      <th>Total Load/Rate</th>\n",
       "      <th>Total Load/Latest</th>\n",
       "      <th>Unknown Load/Rate</th>\n",
       "      <th>Unknown Load/Latest</th>\n",
       "      <th>Latest bytes counter</th>\n",
       "      <th>Packets Looked Up</th>\n",
       "      <th>Packets Matched</th>\n",
       "    </tr>\n",
       "  </thead>\n",
       "  <tbody>\n",
       "    <tr>\n",
       "      <th>2001</th>\n",
       "      <td>3847</td>\n",
       "      <td>69538703</td>\n",
       "      <td>56954725</td>\n",
       "      <td>3831</td>\n",
       "      <td>1602</td>\n",
       "      <td>4</td>\n",
       "      <td>556</td>\n",
       "      <td>556</td>\n",
       "      <td>4</td>\n",
       "      <td>0</td>\n",
       "      <td>0</td>\n",
       "      <td>0</td>\n",
       "      <td>0</td>\n",
       "      <td>0</td>\n",
       "      <td>13477</td>\n",
       "      <td>13256</td>\n",
       "    </tr>\n",
       "  </tbody>\n",
       "</table>\n",
       "</div>"
      ],
      "text/plain": [
       "      Received Packets  Received Bytes  Sent Bytes  Sent Packets  \\\n",
       "2001              3847        69538703    56954725          3831   \n",
       "\n",
       "      Port alive Duration (S)  Delta Received Packets  Delta Received Bytes  \\\n",
       "2001                     1602                       4                   556   \n",
       "\n",
       "      Delta Sent Bytes  Delta Sent Packets  Total Load/Rate  \\\n",
       "2001               556                   4                0   \n",
       "\n",
       "      Total Load/Latest  Unknown Load/Rate  Unknown Load/Latest  \\\n",
       "2001                  0                  0                    0   \n",
       "\n",
       "      Latest bytes counter  Packets Looked Up  Packets Matched  \n",
       "2001                     0              13477            13256  "
      ]
     },
     "execution_count": 28,
     "metadata": {},
     "output_type": "execute_result"
    }
   ],
   "source": [
    "sample_straight"
   ]
  },
  {
   "cell_type": "code",
   "execution_count": 29,
   "metadata": {},
   "outputs": [
    {
     "data": {
      "text/html": [
       "<div>\n",
       "<style scoped>\n",
       "    .dataframe tbody tr th:only-of-type {\n",
       "        vertical-align: middle;\n",
       "    }\n",
       "\n",
       "    .dataframe tbody tr th {\n",
       "        vertical-align: top;\n",
       "    }\n",
       "\n",
       "    .dataframe thead th {\n",
       "        text-align: right;\n",
       "    }\n",
       "</style>\n",
       "<table border=\"1\" class=\"dataframe\">\n",
       "  <thead>\n",
       "    <tr style=\"text-align: right;\">\n",
       "      <th></th>\n",
       "      <th>Delta Received Bytes</th>\n",
       "      <th>Delta Received Packets</th>\n",
       "      <th>Delta Sent Bytes</th>\n",
       "      <th>Delta Sent Packets</th>\n",
       "      <th>Latest bytes counter</th>\n",
       "      <th>Packets Looked Up</th>\n",
       "      <th>Packets Matched</th>\n",
       "      <th>Port alive Duration (S)</th>\n",
       "      <th>Received Bytes</th>\n",
       "      <th>Received Packets</th>\n",
       "      <th>Sent Bytes</th>\n",
       "      <th>Sent Packets</th>\n",
       "      <th>Total Load/Latest</th>\n",
       "      <th>Total Load/Rate</th>\n",
       "      <th>Unknown Load/Latest</th>\n",
       "      <th>Unknown Load/Rate</th>\n",
       "    </tr>\n",
       "  </thead>\n",
       "  <tbody>\n",
       "    <tr>\n",
       "      <th>2001</th>\n",
       "      <td>556</td>\n",
       "      <td>4</td>\n",
       "      <td>556</td>\n",
       "      <td>4</td>\n",
       "      <td>0</td>\n",
       "      <td>13477</td>\n",
       "      <td>13256</td>\n",
       "      <td>1602</td>\n",
       "      <td>69538703</td>\n",
       "      <td>3847</td>\n",
       "      <td>56954725</td>\n",
       "      <td>3831</td>\n",
       "      <td>0</td>\n",
       "      <td>0</td>\n",
       "      <td>0</td>\n",
       "      <td>0</td>\n",
       "    </tr>\n",
       "  </tbody>\n",
       "</table>\n",
       "</div>"
      ],
      "text/plain": [
       "      Delta Received Bytes  Delta Received Packets  Delta Sent Bytes  \\\n",
       "2001                   556                       4               556   \n",
       "\n",
       "      Delta Sent Packets  Latest bytes counter  Packets Looked Up  \\\n",
       "2001                   4                     0              13477   \n",
       "\n",
       "      Packets Matched  Port alive Duration (S)  Received Bytes  \\\n",
       "2001            13256                     1602        69538703   \n",
       "\n",
       "      Received Packets  Sent Bytes  Sent Packets  Total Load/Latest  \\\n",
       "2001              3847    56954725          3831                  0   \n",
       "\n",
       "      Total Load/Rate  Unknown Load/Latest  Unknown Load/Rate  \n",
       "2001                0                    0                  0  "
      ]
     },
     "execution_count": 29,
     "metadata": {},
     "output_type": "execute_result"
    }
   ],
   "source": [
    "sample_reversed"
   ]
  },
  {
   "cell_type": "code",
   "execution_count": 30,
   "metadata": {},
   "outputs": [
    {
     "data": {
      "text/plain": [
       "('Diversion', 'TCP-SYN')"
      ]
     },
     "execution_count": 30,
     "metadata": {},
     "output_type": "execute_result"
    }
   ],
   "source": [
    "results_straight = results_dict[model_2.predict(sample_straight)[0]]\n",
    "results_reversed = results_dict[model_2.predict(sample_reversed)[0]]\n",
    "results_straight, results_reversed"
   ]
  },
  {
   "cell_type": "markdown",
   "metadata": {},
   "source": [
    "# <span style = \"color:purple\"> changing the order of the sample columns changes the prediction result </span>"
   ]
  },
  {
   "cell_type": "code",
   "execution_count": 10,
   "metadata": {},
   "outputs": [
    {
     "data": {
      "text/html": [
       "<div>\n",
       "<style scoped>\n",
       "    .dataframe tbody tr th:only-of-type {\n",
       "        vertical-align: middle;\n",
       "    }\n",
       "\n",
       "    .dataframe tbody tr th {\n",
       "        vertical-align: top;\n",
       "    }\n",
       "\n",
       "    .dataframe thead th {\n",
       "        text-align: right;\n",
       "    }\n",
       "</style>\n",
       "<table border=\"1\" class=\"dataframe\">\n",
       "  <thead>\n",
       "    <tr style=\"text-align: right;\">\n",
       "      <th></th>\n",
       "      <th>Received Packets</th>\n",
       "      <th>Received Bytes</th>\n",
       "      <th>Sent Bytes</th>\n",
       "      <th>Sent Packets</th>\n",
       "      <th>Port alive Duration (S)</th>\n",
       "      <th>Delta Received Packets</th>\n",
       "      <th>Delta Received Bytes</th>\n",
       "      <th>Delta Sent Bytes</th>\n",
       "      <th>Delta Sent Packets</th>\n",
       "      <th>Total Load/Rate</th>\n",
       "      <th>Total Load/Latest</th>\n",
       "      <th>Unknown Load/Rate</th>\n",
       "      <th>Unknown Load/Latest</th>\n",
       "      <th>Latest bytes counter</th>\n",
       "      <th>Packets Looked Up</th>\n",
       "      <th>Packets Matched</th>\n",
       "    </tr>\n",
       "  </thead>\n",
       "  <tbody>\n",
       "    <tr>\n",
       "      <th>345</th>\n",
       "      <td>449</td>\n",
       "      <td>6335491</td>\n",
       "      <td>33279</td>\n",
       "      <td>289</td>\n",
       "      <td>284</td>\n",
       "      <td>4</td>\n",
       "      <td>556</td>\n",
       "      <td>560</td>\n",
       "      <td>4</td>\n",
       "      <td>0</td>\n",
       "      <td>0</td>\n",
       "      <td>0</td>\n",
       "      <td>0</td>\n",
       "      <td>0</td>\n",
       "      <td>2494</td>\n",
       "      <td>2338</td>\n",
       "    </tr>\n",
       "  </tbody>\n",
       "</table>\n",
       "</div>"
      ],
      "text/plain": [
       "     Received Packets  Received Bytes  Sent Bytes  Sent Packets  \\\n",
       "345               449         6335491       33279           289   \n",
       "\n",
       "     Port alive Duration (S)  Delta Received Packets  Delta Received Bytes  \\\n",
       "345                      284                       4                   556   \n",
       "\n",
       "     Delta Sent Bytes  Delta Sent Packets  Total Load/Rate  Total Load/Latest  \\\n",
       "345               560                   4                0                  0   \n",
       "\n",
       "     Unknown Load/Rate  Unknown Load/Latest  Latest bytes counter  \\\n",
       "345                  0                    0                     0   \n",
       "\n",
       "     Packets Looked Up  Packets Matched  \n",
       "345               2494             2338  "
      ]
     },
     "execution_count": 10,
     "metadata": {},
     "output_type": "execute_result"
    }
   ],
   "source": [
    "sample1"
   ]
  },
  {
   "cell_type": "code",
   "execution_count": 23,
   "metadata": {},
   "outputs": [],
   "source": [
    "data_as_dict = sample1.to_dict()"
   ]
  },
  {
   "cell_type": "code",
   "execution_count": 24,
   "metadata": {},
   "outputs": [
    {
     "data": {
      "text/plain": [
       "{'Received Packets': {345: 449},\n",
       " 'Received Bytes': {345: 6335491},\n",
       " 'Sent Bytes': {345: 33279},\n",
       " 'Sent Packets': {345: 289},\n",
       " 'Port alive Duration (S)': {345: 284},\n",
       " 'Delta Received Packets': {345: 4},\n",
       " 'Delta Received Bytes': {345: 556},\n",
       " 'Delta Sent Bytes': {345: 560},\n",
       " 'Delta Sent Packets': {345: 4},\n",
       " 'Total Load/Rate': {345: 0},\n",
       " 'Total Load/Latest': {345: 0},\n",
       " 'Unknown Load/Rate': {345: 0},\n",
       " 'Unknown Load/Latest': {345: 0},\n",
       " 'Latest bytes counter': {345: 0},\n",
       " 'Packets Looked Up': {345: 2494},\n",
       " 'Packets Matched': {345: 2338}}"
      ]
     },
     "execution_count": 24,
     "metadata": {},
     "output_type": "execute_result"
    }
   ],
   "source": [
    "data_as_dict"
   ]
  },
  {
   "cell_type": "code",
   "execution_count": 25,
   "metadata": {},
   "outputs": [
    {
     "data": {
      "text/html": [
       "<div>\n",
       "<style scoped>\n",
       "    .dataframe tbody tr th:only-of-type {\n",
       "        vertical-align: middle;\n",
       "    }\n",
       "\n",
       "    .dataframe tbody tr th {\n",
       "        vertical-align: top;\n",
       "    }\n",
       "\n",
       "    .dataframe thead th {\n",
       "        text-align: right;\n",
       "    }\n",
       "</style>\n",
       "<table border=\"1\" class=\"dataframe\">\n",
       "  <thead>\n",
       "    <tr style=\"text-align: right;\">\n",
       "      <th></th>\n",
       "      <th>Received Packets</th>\n",
       "      <th>Received Bytes</th>\n",
       "      <th>Sent Bytes</th>\n",
       "      <th>Sent Packets</th>\n",
       "      <th>Port alive Duration (S)</th>\n",
       "      <th>Delta Received Packets</th>\n",
       "      <th>Delta Received Bytes</th>\n",
       "      <th>Delta Sent Bytes</th>\n",
       "      <th>Delta Sent Packets</th>\n",
       "      <th>Total Load/Rate</th>\n",
       "      <th>Total Load/Latest</th>\n",
       "      <th>Unknown Load/Rate</th>\n",
       "      <th>Unknown Load/Latest</th>\n",
       "      <th>Latest bytes counter</th>\n",
       "      <th>Packets Looked Up</th>\n",
       "      <th>Packets Matched</th>\n",
       "    </tr>\n",
       "  </thead>\n",
       "  <tbody>\n",
       "    <tr>\n",
       "      <th>345</th>\n",
       "      <td>449</td>\n",
       "      <td>6335491</td>\n",
       "      <td>33279</td>\n",
       "      <td>289</td>\n",
       "      <td>284</td>\n",
       "      <td>4</td>\n",
       "      <td>556</td>\n",
       "      <td>560</td>\n",
       "      <td>4</td>\n",
       "      <td>0</td>\n",
       "      <td>0</td>\n",
       "      <td>0</td>\n",
       "      <td>0</td>\n",
       "      <td>0</td>\n",
       "      <td>2494</td>\n",
       "      <td>2338</td>\n",
       "    </tr>\n",
       "  </tbody>\n",
       "</table>\n",
       "</div>"
      ],
      "text/plain": [
       "     Received Packets  Received Bytes  Sent Bytes  Sent Packets  \\\n",
       "345               449         6335491       33279           289   \n",
       "\n",
       "     Port alive Duration (S)  Delta Received Packets  Delta Received Bytes  \\\n",
       "345                      284                       4                   556   \n",
       "\n",
       "     Delta Sent Bytes  Delta Sent Packets  Total Load/Rate  Total Load/Latest  \\\n",
       "345               560                   4                0                  0   \n",
       "\n",
       "     Unknown Load/Rate  Unknown Load/Latest  Latest bytes counter  \\\n",
       "345                  0                    0                     0   \n",
       "\n",
       "     Packets Looked Up  Packets Matched  \n",
       "345               2494             2338  "
      ]
     },
     "execution_count": 25,
     "metadata": {},
     "output_type": "execute_result"
    }
   ],
   "source": [
    "new_data = pd.DataFrame.from_dict(data_as_dict)\n",
    "new_data"
   ]
  },
  {
   "cell_type": "code",
   "execution_count": 26,
   "metadata": {},
   "outputs": [
    {
     "data": {
      "text/plain": [
       "'Diversion'"
      ]
     },
     "execution_count": 26,
     "metadata": {},
     "output_type": "execute_result"
    }
   ],
   "source": [
    "results_demo = results_dict[model_2.predict(new_data)[0]]\n",
    "results_demo"
   ]
  },
  {
   "cell_type": "markdown",
   "metadata": {},
   "source": [
    "## <span style=\"color:green\"> check the precission of recovered model </span>"
   ]
  },
  {
   "cell_type": "code",
   "execution_count": 21,
   "metadata": {},
   "outputs": [],
   "source": []
  },
  {
   "cell_type": "code",
   "execution_count": 22,
   "metadata": {},
   "outputs": [
    {
     "name": "stdout",
     "output_type": "stream",
     "text": [
      "              precision    recall  f1-score   support\n",
      "\n",
      "           0       0.91      0.92      0.91      1808\n",
      "           1       0.99      0.98      0.98      1681\n",
      "           2       0.98      0.97      0.98      1111\n",
      "           3       1.00      1.00      1.00       770\n",
      "           4       0.97      0.82      0.89       202\n",
      "           5       0.91      0.93      0.92      1911\n",
      "\n",
      "    accuracy                           0.95      7483\n",
      "   macro avg       0.96      0.94      0.95      7483\n",
      "weighted avg       0.95      0.95      0.95      7483\n",
      "\n"
     ]
    }
   ],
   "source": [
    "y_mod1_pred = model_2.predict(X_red_new_test_cat)\n",
    "\n",
    "print(classification_report(y_red_new_test_cat, y_mod1_pred))"
   ]
  },
  {
   "cell_type": "markdown",
   "metadata": {},
   "source": [
    "### <span style=\"color : yellow\"> test results in line with prior analysis. </span>"
   ]
  },
  {
   "cell_type": "markdown",
   "metadata": {},
   "source": [
    "# <span style= \"color:purple\"> below: review effect of creatina and recovering a dictionary and a json file, with different flags. </pan>"
   ]
  },
  {
   "cell_type": "code",
   "execution_count": 34,
   "metadata": {},
   "outputs": [
    {
     "data": {
      "text/plain": [
       "{'Received Packets': {345: 449},\n",
       " 'Received Bytes': {345: 6335491},\n",
       " 'Sent Bytes': {345: 33279},\n",
       " 'Sent Packets': {345: 289},\n",
       " 'Port alive Duration (S)': {345: 284},\n",
       " 'Delta Received Packets': {345: 4},\n",
       " 'Delta Received Bytes': {345: 556},\n",
       " 'Delta Sent Bytes': {345: 560},\n",
       " 'Delta Sent Packets': {345: 4},\n",
       " 'Total Load/Rate': {345: 0},\n",
       " 'Total Load/Latest': {345: 0},\n",
       " 'Unknown Load/Rate': {345: 0},\n",
       " 'Unknown Load/Latest': {345: 0},\n",
       " 'Latest bytes counter': {345: 0},\n",
       " 'Packets Looked Up': {345: 2494},\n",
       " 'Packets Matched': {345: 2338}}"
      ]
     },
     "execution_count": 34,
     "metadata": {},
     "output_type": "execute_result"
    }
   ],
   "source": [
    "data_as_dict1 = sample1.to_dict() #dict like\n",
    "data_as_dict1"
   ]
  },
  {
   "cell_type": "code",
   "execution_count": 28,
   "metadata": {},
   "outputs": [
    {
     "data": {
      "text/plain": [
       "{'Received Packets': [449],\n",
       " 'Received Bytes': [6335491],\n",
       " 'Sent Bytes': [33279],\n",
       " 'Sent Packets': [289],\n",
       " 'Port alive Duration (S)': [284],\n",
       " 'Delta Received Packets': [4],\n",
       " 'Delta Received Bytes': [556],\n",
       " 'Delta Sent Bytes': [560],\n",
       " 'Delta Sent Packets': [4],\n",
       " 'Total Load/Rate': [0],\n",
       " 'Total Load/Latest': [0],\n",
       " 'Unknown Load/Rate': [0],\n",
       " 'Unknown Load/Latest': [0],\n",
       " 'Latest bytes counter': [0],\n",
       " 'Packets Looked Up': [2494],\n",
       " 'Packets Matched': [2338]}"
      ]
     },
     "execution_count": 28,
     "metadata": {},
     "output_type": "execute_result"
    }
   ],
   "source": [
    "data_as_dict2 = sample1.to_dict(orient=\"list\") #dict like\n",
    "data_as_dict2"
   ]
  },
  {
   "cell_type": "code",
   "execution_count": 30,
   "metadata": {},
   "outputs": [
    {
     "data": {
      "text/plain": [
       "{'index': [345],\n",
       " 'columns': ['Received Packets',\n",
       "  'Received Bytes',\n",
       "  'Sent Bytes',\n",
       "  'Sent Packets',\n",
       "  'Port alive Duration (S)',\n",
       "  'Delta Received Packets',\n",
       "  'Delta Received Bytes',\n",
       "  'Delta Sent Bytes',\n",
       "  'Delta Sent Packets',\n",
       "  'Total Load/Rate',\n",
       "  'Total Load/Latest',\n",
       "  'Unknown Load/Rate',\n",
       "  'Unknown Load/Latest',\n",
       "  'Latest bytes counter',\n",
       "  'Packets Looked Up',\n",
       "  'Packets Matched'],\n",
       " 'data': [[449,\n",
       "   6335491,\n",
       "   33279,\n",
       "   289,\n",
       "   284,\n",
       "   4,\n",
       "   556,\n",
       "   560,\n",
       "   4,\n",
       "   0,\n",
       "   0,\n",
       "   0,\n",
       "   0,\n",
       "   0,\n",
       "   2494,\n",
       "   2338]]}"
      ]
     },
     "execution_count": 30,
     "metadata": {},
     "output_type": "execute_result"
    }
   ],
   "source": [
    "data_as_dict3 = sample1.to_dict(orient=\"split\") #dict like\n",
    "data_as_dict3"
   ]
  },
  {
   "cell_type": "code",
   "execution_count": 31,
   "metadata": {},
   "outputs": [
    {
     "data": {
      "text/plain": [
       "[{'Received Packets': 449,\n",
       "  'Received Bytes': 6335491,\n",
       "  'Sent Bytes': 33279,\n",
       "  'Sent Packets': 289,\n",
       "  'Port alive Duration (S)': 284,\n",
       "  'Delta Received Packets': 4,\n",
       "  'Delta Received Bytes': 556,\n",
       "  'Delta Sent Bytes': 560,\n",
       "  'Delta Sent Packets': 4,\n",
       "  'Total Load/Rate': 0,\n",
       "  'Total Load/Latest': 0,\n",
       "  'Unknown Load/Rate': 0,\n",
       "  'Unknown Load/Latest': 0,\n",
       "  'Latest bytes counter': 0,\n",
       "  'Packets Looked Up': 2494,\n",
       "  'Packets Matched': 2338}]"
      ]
     },
     "execution_count": 31,
     "metadata": {},
     "output_type": "execute_result"
    }
   ],
   "source": [
    "data_as_dict4 = sample1.to_dict(orient=\"records\") #list like\n",
    "data_as_dict4"
   ]
  },
  {
   "cell_type": "code",
   "execution_count": 91,
   "metadata": {},
   "outputs": [
    {
     "data": {
      "text/plain": [
       "{'Received Packets': 449,\n",
       " 'Received Bytes': 6335491,\n",
       " 'Sent Bytes': 33279,\n",
       " 'Sent Packets': 289,\n",
       " 'Port alive Duration (S)': 284,\n",
       " 'Delta Received Packets': 4,\n",
       " 'Delta Received Bytes': 556,\n",
       " 'Delta Sent Bytes': 560,\n",
       " 'Delta Sent Packets': 4,\n",
       " 'Total Load/Rate': 0,\n",
       " 'Total Load/Latest': 0,\n",
       " 'Unknown Load/Rate': 0,\n",
       " 'Unknown Load/Latest': 0,\n",
       " 'Latest bytes counter': 0,\n",
       " 'Packets Looked Up': 2494,\n",
       " 'Packets Matched': 2338}"
      ]
     },
     "execution_count": 91,
     "metadata": {},
     "output_type": "execute_result"
    }
   ],
   "source": [
    "data_as_dict41 =sample1.to_dict(orient=\"records\")[0]\n",
    "data_as_dict41"
   ]
  },
  {
   "cell_type": "code",
   "execution_count": 33,
   "metadata": {},
   "outputs": [
    {
     "data": {
      "text/plain": [
       "{345: {'Received Packets': 449,\n",
       "  'Received Bytes': 6335491,\n",
       "  'Sent Bytes': 33279,\n",
       "  'Sent Packets': 289,\n",
       "  'Port alive Duration (S)': 284,\n",
       "  'Delta Received Packets': 4,\n",
       "  'Delta Received Bytes': 556,\n",
       "  'Delta Sent Bytes': 560,\n",
       "  'Delta Sent Packets': 4,\n",
       "  'Total Load/Rate': 0,\n",
       "  'Total Load/Latest': 0,\n",
       "  'Unknown Load/Rate': 0,\n",
       "  'Unknown Load/Latest': 0,\n",
       "  'Latest bytes counter': 0,\n",
       "  'Packets Looked Up': 2494,\n",
       "  'Packets Matched': 2338}}"
      ]
     },
     "execution_count": 33,
     "metadata": {},
     "output_type": "execute_result"
    }
   ],
   "source": [
    "data_as_dict5 = sample1.to_dict(orient=\"index\") #dict like\n",
    "data_as_dict5"
   ]
  },
  {
   "cell_type": "code",
   "execution_count": 47,
   "metadata": {},
   "outputs": [
    {
     "data": {
      "text/plain": [
       "{'Received Packets': 449,\n",
       " 'Received Bytes': 6335491,\n",
       " 'Sent Bytes': 33279,\n",
       " 'Sent Packets': 289,\n",
       " 'Port alive Duration (S)': 284,\n",
       " 'Delta Received Packets': 4,\n",
       " 'Delta Received Bytes': 556,\n",
       " 'Delta Sent Bytes': 560,\n",
       " 'Delta Sent Packets': 4,\n",
       " 'Total Load/Rate': 0,\n",
       " 'Total Load/Latest': 0,\n",
       " 'Unknown Load/Rate': 0,\n",
       " 'Unknown Load/Latest': 0,\n",
       " 'Latest bytes counter': 0,\n",
       " 'Packets Looked Up': 2494,\n",
       " 'Packets Matched': 2338}"
      ]
     },
     "execution_count": 47,
     "metadata": {},
     "output_type": "execute_result"
    }
   ],
   "source": [
    "data_as_dict5[list(data_as_dict5.keys())[0]]\n"
   ]
  },
  {
   "cell_type": "code",
   "execution_count": 51,
   "metadata": {},
   "outputs": [
    {
     "data": {
      "text/html": [
       "<div>\n",
       "<style scoped>\n",
       "    .dataframe tbody tr th:only-of-type {\n",
       "        vertical-align: middle;\n",
       "    }\n",
       "\n",
       "    .dataframe tbody tr th {\n",
       "        vertical-align: top;\n",
       "    }\n",
       "\n",
       "    .dataframe thead th {\n",
       "        text-align: right;\n",
       "    }\n",
       "</style>\n",
       "<table border=\"1\" class=\"dataframe\">\n",
       "  <thead>\n",
       "    <tr style=\"text-align: right;\">\n",
       "      <th></th>\n",
       "      <th>Received Packets</th>\n",
       "      <th>Received Bytes</th>\n",
       "      <th>Sent Bytes</th>\n",
       "      <th>Sent Packets</th>\n",
       "      <th>Port alive Duration (S)</th>\n",
       "      <th>Delta Received Packets</th>\n",
       "      <th>Delta Received Bytes</th>\n",
       "      <th>Delta Sent Bytes</th>\n",
       "      <th>Delta Sent Packets</th>\n",
       "      <th>Total Load/Rate</th>\n",
       "      <th>Total Load/Latest</th>\n",
       "      <th>Unknown Load/Rate</th>\n",
       "      <th>Unknown Load/Latest</th>\n",
       "      <th>Latest bytes counter</th>\n",
       "      <th>Packets Looked Up</th>\n",
       "      <th>Packets Matched</th>\n",
       "    </tr>\n",
       "  </thead>\n",
       "  <tbody>\n",
       "    <tr>\n",
       "      <th>345</th>\n",
       "      <td>449</td>\n",
       "      <td>6335491</td>\n",
       "      <td>33279</td>\n",
       "      <td>289</td>\n",
       "      <td>284</td>\n",
       "      <td>4</td>\n",
       "      <td>556</td>\n",
       "      <td>560</td>\n",
       "      <td>4</td>\n",
       "      <td>0</td>\n",
       "      <td>0</td>\n",
       "      <td>0</td>\n",
       "      <td>0</td>\n",
       "      <td>0</td>\n",
       "      <td>2494</td>\n",
       "      <td>2338</td>\n",
       "    </tr>\n",
       "  </tbody>\n",
       "</table>\n",
       "</div>"
      ],
      "text/plain": [
       "     Received Packets  Received Bytes  Sent Bytes  Sent Packets  \\\n",
       "345               449         6335491       33279           289   \n",
       "\n",
       "     Port alive Duration (S)  Delta Received Packets  Delta Received Bytes  \\\n",
       "345                      284                       4                   556   \n",
       "\n",
       "     Delta Sent Bytes  Delta Sent Packets  Total Load/Rate  Total Load/Latest  \\\n",
       "345               560                   4                0                  0   \n",
       "\n",
       "     Unknown Load/Rate  Unknown Load/Latest  Latest bytes counter  \\\n",
       "345                  0                    0                     0   \n",
       "\n",
       "     Packets Looked Up  Packets Matched  \n",
       "345               2494             2338  "
      ]
     },
     "execution_count": 51,
     "metadata": {},
     "output_type": "execute_result"
    }
   ],
   "source": [
    "recover_from_dict1 = pd.DataFrame.from_dict(data_as_dict1)\n",
    "recover_from_dict1"
   ]
  },
  {
   "cell_type": "code",
   "execution_count": 52,
   "metadata": {},
   "outputs": [
    {
     "data": {
      "text/html": [
       "<div>\n",
       "<style scoped>\n",
       "    .dataframe tbody tr th:only-of-type {\n",
       "        vertical-align: middle;\n",
       "    }\n",
       "\n",
       "    .dataframe tbody tr th {\n",
       "        vertical-align: top;\n",
       "    }\n",
       "\n",
       "    .dataframe thead th {\n",
       "        text-align: right;\n",
       "    }\n",
       "</style>\n",
       "<table border=\"1\" class=\"dataframe\">\n",
       "  <thead>\n",
       "    <tr style=\"text-align: right;\">\n",
       "      <th></th>\n",
       "      <th>Received Packets</th>\n",
       "      <th>Received Bytes</th>\n",
       "      <th>Sent Bytes</th>\n",
       "      <th>Sent Packets</th>\n",
       "      <th>Port alive Duration (S)</th>\n",
       "      <th>Delta Received Packets</th>\n",
       "      <th>Delta Received Bytes</th>\n",
       "      <th>Delta Sent Bytes</th>\n",
       "      <th>Delta Sent Packets</th>\n",
       "      <th>Total Load/Rate</th>\n",
       "      <th>Total Load/Latest</th>\n",
       "      <th>Unknown Load/Rate</th>\n",
       "      <th>Unknown Load/Latest</th>\n",
       "      <th>Latest bytes counter</th>\n",
       "      <th>Packets Looked Up</th>\n",
       "      <th>Packets Matched</th>\n",
       "    </tr>\n",
       "  </thead>\n",
       "  <tbody>\n",
       "    <tr>\n",
       "      <th>0</th>\n",
       "      <td>449</td>\n",
       "      <td>6335491</td>\n",
       "      <td>33279</td>\n",
       "      <td>289</td>\n",
       "      <td>284</td>\n",
       "      <td>4</td>\n",
       "      <td>556</td>\n",
       "      <td>560</td>\n",
       "      <td>4</td>\n",
       "      <td>0</td>\n",
       "      <td>0</td>\n",
       "      <td>0</td>\n",
       "      <td>0</td>\n",
       "      <td>0</td>\n",
       "      <td>2494</td>\n",
       "      <td>2338</td>\n",
       "    </tr>\n",
       "  </tbody>\n",
       "</table>\n",
       "</div>"
      ],
      "text/plain": [
       "   Received Packets  Received Bytes  Sent Bytes  Sent Packets  \\\n",
       "0               449         6335491       33279           289   \n",
       "\n",
       "   Port alive Duration (S)  Delta Received Packets  Delta Received Bytes  \\\n",
       "0                      284                       4                   556   \n",
       "\n",
       "   Delta Sent Bytes  Delta Sent Packets  Total Load/Rate  Total Load/Latest  \\\n",
       "0               560                   4                0                  0   \n",
       "\n",
       "   Unknown Load/Rate  Unknown Load/Latest  Latest bytes counter  \\\n",
       "0                  0                    0                     0   \n",
       "\n",
       "   Packets Looked Up  Packets Matched  \n",
       "0               2494             2338  "
      ]
     },
     "execution_count": 52,
     "metadata": {},
     "output_type": "execute_result"
    }
   ],
   "source": [
    "recover_from_dict2 = pd.DataFrame.from_dict(data_as_dict2)\n",
    "recover_from_dict2\n"
   ]
  },
  {
   "cell_type": "code",
   "execution_count": 59,
   "metadata": {},
   "outputs": [
    {
     "data": {
      "text/html": [
       "<div>\n",
       "<style scoped>\n",
       "    .dataframe tbody tr th:only-of-type {\n",
       "        vertical-align: middle;\n",
       "    }\n",
       "\n",
       "    .dataframe tbody tr th {\n",
       "        vertical-align: top;\n",
       "    }\n",
       "\n",
       "    .dataframe thead th {\n",
       "        text-align: right;\n",
       "    }\n",
       "</style>\n",
       "<table border=\"1\" class=\"dataframe\">\n",
       "  <thead>\n",
       "    <tr style=\"text-align: right;\">\n",
       "      <th></th>\n",
       "      <th>Received Packets</th>\n",
       "      <th>Received Bytes</th>\n",
       "      <th>Sent Bytes</th>\n",
       "      <th>Sent Packets</th>\n",
       "      <th>Port alive Duration (S)</th>\n",
       "      <th>Delta Received Packets</th>\n",
       "      <th>Delta Received Bytes</th>\n",
       "      <th>Delta Sent Bytes</th>\n",
       "      <th>Delta Sent Packets</th>\n",
       "      <th>Total Load/Rate</th>\n",
       "      <th>Total Load/Latest</th>\n",
       "      <th>Unknown Load/Rate</th>\n",
       "      <th>Unknown Load/Latest</th>\n",
       "      <th>Latest bytes counter</th>\n",
       "      <th>Packets Looked Up</th>\n",
       "      <th>Packets Matched</th>\n",
       "    </tr>\n",
       "  </thead>\n",
       "  <tbody>\n",
       "    <tr>\n",
       "      <th>0</th>\n",
       "      <td>449</td>\n",
       "      <td>6335491</td>\n",
       "      <td>33279</td>\n",
       "      <td>289</td>\n",
       "      <td>284</td>\n",
       "      <td>4</td>\n",
       "      <td>556</td>\n",
       "      <td>560</td>\n",
       "      <td>4</td>\n",
       "      <td>0</td>\n",
       "      <td>0</td>\n",
       "      <td>0</td>\n",
       "      <td>0</td>\n",
       "      <td>0</td>\n",
       "      <td>2494</td>\n",
       "      <td>2338</td>\n",
       "    </tr>\n",
       "  </tbody>\n",
       "</table>\n",
       "</div>"
      ],
      "text/plain": [
       "   Received Packets  Received Bytes  Sent Bytes  Sent Packets  \\\n",
       "0               449         6335491       33279           289   \n",
       "\n",
       "   Port alive Duration (S)  Delta Received Packets  Delta Received Bytes  \\\n",
       "0                      284                       4                   556   \n",
       "\n",
       "   Delta Sent Bytes  Delta Sent Packets  Total Load/Rate  Total Load/Latest  \\\n",
       "0               560                   4                0                  0   \n",
       "\n",
       "   Unknown Load/Rate  Unknown Load/Latest  Latest bytes counter  \\\n",
       "0                  0                    0                     0   \n",
       "\n",
       "   Packets Looked Up  Packets Matched  \n",
       "0               2494             2338  "
      ]
     },
     "execution_count": 59,
     "metadata": {},
     "output_type": "execute_result"
    }
   ],
   "source": [
    "recover_from_dict3 = pd.DataFrame(data_as_dict3[\"data\"], columns = data_as_dict3[\"columns\"] )\n",
    "recover_from_dict3"
   ]
  },
  {
   "cell_type": "code",
   "execution_count": 60,
   "metadata": {},
   "outputs": [
    {
     "data": {
      "text/html": [
       "<div>\n",
       "<style scoped>\n",
       "    .dataframe tbody tr th:only-of-type {\n",
       "        vertical-align: middle;\n",
       "    }\n",
       "\n",
       "    .dataframe tbody tr th {\n",
       "        vertical-align: top;\n",
       "    }\n",
       "\n",
       "    .dataframe thead th {\n",
       "        text-align: right;\n",
       "    }\n",
       "</style>\n",
       "<table border=\"1\" class=\"dataframe\">\n",
       "  <thead>\n",
       "    <tr style=\"text-align: right;\">\n",
       "      <th></th>\n",
       "      <th>Received Packets</th>\n",
       "      <th>Received Bytes</th>\n",
       "      <th>Sent Bytes</th>\n",
       "      <th>Sent Packets</th>\n",
       "      <th>Port alive Duration (S)</th>\n",
       "      <th>Delta Received Packets</th>\n",
       "      <th>Delta Received Bytes</th>\n",
       "      <th>Delta Sent Bytes</th>\n",
       "      <th>Delta Sent Packets</th>\n",
       "      <th>Total Load/Rate</th>\n",
       "      <th>Total Load/Latest</th>\n",
       "      <th>Unknown Load/Rate</th>\n",
       "      <th>Unknown Load/Latest</th>\n",
       "      <th>Latest bytes counter</th>\n",
       "      <th>Packets Looked Up</th>\n",
       "      <th>Packets Matched</th>\n",
       "    </tr>\n",
       "  </thead>\n",
       "  <tbody>\n",
       "    <tr>\n",
       "      <th>0</th>\n",
       "      <td>449</td>\n",
       "      <td>6335491</td>\n",
       "      <td>33279</td>\n",
       "      <td>289</td>\n",
       "      <td>284</td>\n",
       "      <td>4</td>\n",
       "      <td>556</td>\n",
       "      <td>560</td>\n",
       "      <td>4</td>\n",
       "      <td>0</td>\n",
       "      <td>0</td>\n",
       "      <td>0</td>\n",
       "      <td>0</td>\n",
       "      <td>0</td>\n",
       "      <td>2494</td>\n",
       "      <td>2338</td>\n",
       "    </tr>\n",
       "  </tbody>\n",
       "</table>\n",
       "</div>"
      ],
      "text/plain": [
       "   Received Packets  Received Bytes  Sent Bytes  Sent Packets  \\\n",
       "0               449         6335491       33279           289   \n",
       "\n",
       "   Port alive Duration (S)  Delta Received Packets  Delta Received Bytes  \\\n",
       "0                      284                       4                   556   \n",
       "\n",
       "   Delta Sent Bytes  Delta Sent Packets  Total Load/Rate  Total Load/Latest  \\\n",
       "0               560                   4                0                  0   \n",
       "\n",
       "   Unknown Load/Rate  Unknown Load/Latest  Latest bytes counter  \\\n",
       "0                  0                    0                     0   \n",
       "\n",
       "   Packets Looked Up  Packets Matched  \n",
       "0               2494             2338  "
      ]
     },
     "execution_count": 60,
     "metadata": {},
     "output_type": "execute_result"
    }
   ],
   "source": [
    "recover_from_dict4 = pd.DataFrame.from_dict(data_as_dict4)\n",
    "recover_from_dict4"
   ]
  },
  {
   "cell_type": "code",
   "execution_count": 62,
   "metadata": {},
   "outputs": [
    {
     "data": {
      "text/html": [
       "<div>\n",
       "<style scoped>\n",
       "    .dataframe tbody tr th:only-of-type {\n",
       "        vertical-align: middle;\n",
       "    }\n",
       "\n",
       "    .dataframe tbody tr th {\n",
       "        vertical-align: top;\n",
       "    }\n",
       "\n",
       "    .dataframe thead th {\n",
       "        text-align: right;\n",
       "    }\n",
       "</style>\n",
       "<table border=\"1\" class=\"dataframe\">\n",
       "  <thead>\n",
       "    <tr style=\"text-align: right;\">\n",
       "      <th></th>\n",
       "      <th>Received Packets</th>\n",
       "      <th>Received Bytes</th>\n",
       "      <th>Sent Bytes</th>\n",
       "      <th>Sent Packets</th>\n",
       "      <th>Port alive Duration (S)</th>\n",
       "      <th>Delta Received Packets</th>\n",
       "      <th>Delta Received Bytes</th>\n",
       "      <th>Delta Sent Bytes</th>\n",
       "      <th>Delta Sent Packets</th>\n",
       "      <th>Total Load/Rate</th>\n",
       "      <th>Total Load/Latest</th>\n",
       "      <th>Unknown Load/Rate</th>\n",
       "      <th>Unknown Load/Latest</th>\n",
       "      <th>Latest bytes counter</th>\n",
       "      <th>Packets Looked Up</th>\n",
       "      <th>Packets Matched</th>\n",
       "    </tr>\n",
       "  </thead>\n",
       "  <tbody>\n",
       "    <tr>\n",
       "      <th>345</th>\n",
       "      <td>449</td>\n",
       "      <td>6335491</td>\n",
       "      <td>33279</td>\n",
       "      <td>289</td>\n",
       "      <td>284</td>\n",
       "      <td>4</td>\n",
       "      <td>556</td>\n",
       "      <td>560</td>\n",
       "      <td>4</td>\n",
       "      <td>0</td>\n",
       "      <td>0</td>\n",
       "      <td>0</td>\n",
       "      <td>0</td>\n",
       "      <td>0</td>\n",
       "      <td>2494</td>\n",
       "      <td>2338</td>\n",
       "    </tr>\n",
       "  </tbody>\n",
       "</table>\n",
       "</div>"
      ],
      "text/plain": [
       "     Received Packets  Received Bytes  Sent Bytes  Sent Packets  \\\n",
       "345               449         6335491       33279           289   \n",
       "\n",
       "     Port alive Duration (S)  Delta Received Packets  Delta Received Bytes  \\\n",
       "345                      284                       4                   556   \n",
       "\n",
       "     Delta Sent Bytes  Delta Sent Packets  Total Load/Rate  Total Load/Latest  \\\n",
       "345               560                   4                0                  0   \n",
       "\n",
       "     Unknown Load/Rate  Unknown Load/Latest  Latest bytes counter  \\\n",
       "345                  0                    0                     0   \n",
       "\n",
       "     Packets Looked Up  Packets Matched  \n",
       "345               2494             2338  "
      ]
     },
     "execution_count": 62,
     "metadata": {},
     "output_type": "execute_result"
    }
   ],
   "source": [
    "recover_from_dict5 = pd.DataFrame.from_dict(data_as_dict5, orient=\"index\")\n",
    "recover_from_dict5"
   ]
  },
  {
   "cell_type": "markdown",
   "metadata": {},
   "source": [
    "## <span style= \"color:brown\"> to and back from json </span>"
   ]
  },
  {
   "cell_type": "code",
   "execution_count": null,
   "metadata": {},
   "outputs": [],
   "source": []
  },
  {
   "cell_type": "code",
   "execution_count": 66,
   "metadata": {},
   "outputs": [
    {
     "data": {
      "text/plain": [
       "'{\"Received Packets\":{\"345\":449},\"Received Bytes\":{\"345\":6335491},\"Sent Bytes\":{\"345\":33279},\"Sent Packets\":{\"345\":289},\"Port alive Duration (S)\":{\"345\":284},\"Delta Received Packets\":{\"345\":4},\"Delta Received Bytes\":{\"345\":556},\"Delta Sent Bytes\":{\"345\":560},\"Delta Sent Packets\":{\"345\":4},\"Total Load\\\\/Rate\":{\"345\":0},\"Total Load\\\\/Latest\":{\"345\":0},\"Unknown Load\\\\/Rate\":{\"345\":0},\"Unknown Load\\\\/Latest\":{\"345\":0},\"Latest bytes counter\":{\"345\":0},\"Packets Looked Up\":{\"345\":2494},\"Packets Matched\":{\"345\":2338}}'"
      ]
     },
     "execution_count": 66,
     "metadata": {},
     "output_type": "execute_result"
    }
   ],
   "source": [
    "data_as_json1 = sample1.to_json()\n",
    "data_as_json1"
   ]
  },
  {
   "cell_type": "code",
   "execution_count": 70,
   "metadata": {},
   "outputs": [
    {
     "data": {
      "text/plain": [
       "'{\"columns\":[\"Received Packets\",\"Received Bytes\",\"Sent Bytes\",\"Sent Packets\",\"Port alive Duration (S)\",\"Delta Received Packets\",\"Delta Received Bytes\",\"Delta Sent Bytes\",\"Delta Sent Packets\",\"Total Load\\\\/Rate\",\"Total Load\\\\/Latest\",\"Unknown Load\\\\/Rate\",\"Unknown Load\\\\/Latest\",\"Latest bytes counter\",\"Packets Looked Up\",\"Packets Matched\"],\"index\":[345],\"data\":[[449,6335491,33279,289,284,4,556,560,4,0,0,0,0,0,2494,2338]]}'"
      ]
     },
     "execution_count": 70,
     "metadata": {},
     "output_type": "execute_result"
    }
   ],
   "source": [
    "data_as_json2 = sample1.to_json(orient=\"split\")\n",
    "data_as_json2"
   ]
  },
  {
   "cell_type": "markdown",
   "metadata": {},
   "source": [
    "## <span style= \"color:green\"> this is the way of presenting the data </span>"
   ]
  },
  {
   "cell_type": "code",
   "execution_count": 23,
   "metadata": {},
   "outputs": [
    {
     "data": {
      "text/plain": [
       "'[{\"Received Packets\":449,\"Received Bytes\":6335491,\"Sent Bytes\":33279,\"Sent Packets\":289,\"Port alive Duration (S)\":284,\"Delta Received Packets\":4,\"Delta Received Bytes\":556,\"Delta Sent Bytes\":560,\"Delta Sent Packets\":4,\"Total Load\\\\/Rate\":0,\"Total Load\\\\/Latest\":0,\"Unknown Load\\\\/Rate\":0,\"Unknown Load\\\\/Latest\":0,\"Latest bytes counter\":0,\"Packets Looked Up\":2494,\"Packets Matched\":2338}]'"
      ]
     },
     "execution_count": 23,
     "metadata": {},
     "output_type": "execute_result"
    }
   ],
   "source": [
    "data_as_json3 = sample1.to_json(orient=\"records\")\n",
    "data_as_json3"
   ]
  },
  {
   "cell_type": "code",
   "execution_count": 130,
   "metadata": {},
   "outputs": [
    {
     "data": {
      "text/plain": [
       "{'Received Packets': 449,\n",
       " 'Received Bytes': 6335491,\n",
       " 'Sent Bytes': 33279,\n",
       " 'Sent Packets': 289,\n",
       " 'Port alive Duration (S)': 284,\n",
       " 'Delta Received Packets': 4,\n",
       " 'Delta Received Bytes': 556,\n",
       " 'Delta Sent Bytes': 560,\n",
       " 'Delta Sent Packets': 4,\n",
       " 'Total Load\\\\/Rate': 0,\n",
       " 'Total Load\\\\/Latest': 0,\n",
       " 'Unknown Load\\\\/Rate': 0,\n",
       " 'Unknown Load\\\\/Latest': 0,\n",
       " 'Latest bytes counter': 0,\n",
       " 'Packets Looked Up': 2494,\n",
       " 'Packets Matched': 2338}"
      ]
     },
     "execution_count": 130,
     "metadata": {},
     "output_type": "execute_result"
    }
   ],
   "source": [
    "equis = eval(data_as_json3)[0]\n",
    "equis\n"
   ]
  },
  {
   "cell_type": "code",
   "execution_count": 73,
   "metadata": {},
   "outputs": [
    {
     "data": {
      "text/plain": [
       "'{\"345\":{\"Received Packets\":449,\"Received Bytes\":6335491,\"Sent Bytes\":33279,\"Sent Packets\":289,\"Port alive Duration (S)\":284,\"Delta Received Packets\":4,\"Delta Received Bytes\":556,\"Delta Sent Bytes\":560,\"Delta Sent Packets\":4,\"Total Load\\\\/Rate\":0,\"Total Load\\\\/Latest\":0,\"Unknown Load\\\\/Rate\":0,\"Unknown Load\\\\/Latest\":0,\"Latest bytes counter\":0,\"Packets Looked Up\":2494,\"Packets Matched\":2338}}'"
      ]
     },
     "execution_count": 73,
     "metadata": {},
     "output_type": "execute_result"
    }
   ],
   "source": [
    "data_as_json4 = sample1.to_json(orient=\"index\")\n",
    "data_as_json4"
   ]
  },
  {
   "cell_type": "code",
   "execution_count": 74,
   "metadata": {},
   "outputs": [
    {
     "data": {
      "text/plain": [
       "'{\"Received Packets\":{\"345\":449},\"Received Bytes\":{\"345\":6335491},\"Sent Bytes\":{\"345\":33279},\"Sent Packets\":{\"345\":289},\"Port alive Duration (S)\":{\"345\":284},\"Delta Received Packets\":{\"345\":4},\"Delta Received Bytes\":{\"345\":556},\"Delta Sent Bytes\":{\"345\":560},\"Delta Sent Packets\":{\"345\":4},\"Total Load\\\\/Rate\":{\"345\":0},\"Total Load\\\\/Latest\":{\"345\":0},\"Unknown Load\\\\/Rate\":{\"345\":0},\"Unknown Load\\\\/Latest\":{\"345\":0},\"Latest bytes counter\":{\"345\":0},\"Packets Looked Up\":{\"345\":2494},\"Packets Matched\":{\"345\":2338}}'"
      ]
     },
     "execution_count": 74,
     "metadata": {},
     "output_type": "execute_result"
    }
   ],
   "source": [
    "data_as_json5 = sample1.to_json(orient=\"columns\")\n",
    "data_as_json5"
   ]
  },
  {
   "cell_type": "code",
   "execution_count": 75,
   "metadata": {},
   "outputs": [
    {
     "data": {
      "text/plain": [
       "'[[449,6335491,33279,289,284,4,556,560,4,0,0,0,0,0,2494,2338]]'"
      ]
     },
     "execution_count": 75,
     "metadata": {},
     "output_type": "execute_result"
    }
   ],
   "source": [
    "data_as_json6 = sample1.to_json(orient=\"values\")\n",
    "data_as_json6"
   ]
  },
  {
   "cell_type": "code",
   "execution_count": 76,
   "metadata": {},
   "outputs": [
    {
     "data": {
      "text/plain": [
       "'{\"schema\":{\"fields\":[{\"name\":\"index\",\"type\":\"integer\"},{\"name\":\"Received Packets\",\"type\":\"integer\"},{\"name\":\"Received Bytes\",\"type\":\"integer\"},{\"name\":\"Sent Bytes\",\"type\":\"integer\"},{\"name\":\"Sent Packets\",\"type\":\"integer\"},{\"name\":\"Port alive Duration (S)\",\"type\":\"integer\"},{\"name\":\"Delta Received Packets\",\"type\":\"integer\"},{\"name\":\"Delta Received Bytes\",\"type\":\"integer\"},{\"name\":\"Delta Sent Bytes\",\"type\":\"integer\"},{\"name\":\"Delta Sent Packets\",\"type\":\"integer\"},{\"name\":\"Total Load\\\\/Rate\",\"type\":\"integer\"},{\"name\":\"Total Load\\\\/Latest\",\"type\":\"integer\"},{\"name\":\"Unknown Load\\\\/Rate\",\"type\":\"integer\"},{\"name\":\"Unknown Load\\\\/Latest\",\"type\":\"integer\"},{\"name\":\"Latest bytes counter\",\"type\":\"integer\"},{\"name\":\"Packets Looked Up\",\"type\":\"integer\"},{\"name\":\"Packets Matched\",\"type\":\"integer\"}],\"primaryKey\":[\"index\"],\"pandas_version\":\"1.4.0\"},\"data\":[{\"index\":345,\"Received Packets\":449,\"Received Bytes\":6335491,\"Sent Bytes\":33279,\"Sent Packets\":289,\"Port alive Duration (S)\":284,\"Delta Received Packets\":4,\"Delta Received Bytes\":556,\"Delta Sent Bytes\":560,\"Delta Sent Packets\":4,\"Total Load\\\\/Rate\":0,\"Total Load\\\\/Latest\":0,\"Unknown Load\\\\/Rate\":0,\"Unknown Load\\\\/Latest\":0,\"Latest bytes counter\":0,\"Packets Looked Up\":2494,\"Packets Matched\":2338}]}'"
      ]
     },
     "execution_count": 76,
     "metadata": {},
     "output_type": "execute_result"
    }
   ],
   "source": [
    "data_as_json7 = sample1.to_json(orient=\"table\")\n",
    "data_as_json7"
   ]
  },
  {
   "cell_type": "code",
   "execution_count": 82,
   "metadata": {},
   "outputs": [
    {
     "data": {
      "text/html": [
       "<div>\n",
       "<style scoped>\n",
       "    .dataframe tbody tr th:only-of-type {\n",
       "        vertical-align: middle;\n",
       "    }\n",
       "\n",
       "    .dataframe tbody tr th {\n",
       "        vertical-align: top;\n",
       "    }\n",
       "\n",
       "    .dataframe thead th {\n",
       "        text-align: right;\n",
       "    }\n",
       "</style>\n",
       "<table border=\"1\" class=\"dataframe\">\n",
       "  <thead>\n",
       "    <tr style=\"text-align: right;\">\n",
       "      <th></th>\n",
       "      <th>Received Packets</th>\n",
       "      <th>Received Bytes</th>\n",
       "      <th>Sent Bytes</th>\n",
       "      <th>Sent Packets</th>\n",
       "      <th>Port alive Duration (S)</th>\n",
       "      <th>Delta Received Packets</th>\n",
       "      <th>Delta Received Bytes</th>\n",
       "      <th>Delta Sent Bytes</th>\n",
       "      <th>Delta Sent Packets</th>\n",
       "      <th>Total Load/Rate</th>\n",
       "      <th>Total Load/Latest</th>\n",
       "      <th>Unknown Load/Rate</th>\n",
       "      <th>Unknown Load/Latest</th>\n",
       "      <th>Latest bytes counter</th>\n",
       "      <th>Packets Looked Up</th>\n",
       "      <th>Packets Matched</th>\n",
       "    </tr>\n",
       "  </thead>\n",
       "  <tbody>\n",
       "    <tr>\n",
       "      <th>345</th>\n",
       "      <td>449</td>\n",
       "      <td>6335491</td>\n",
       "      <td>33279</td>\n",
       "      <td>289</td>\n",
       "      <td>284</td>\n",
       "      <td>4</td>\n",
       "      <td>556</td>\n",
       "      <td>560</td>\n",
       "      <td>4</td>\n",
       "      <td>0</td>\n",
       "      <td>0</td>\n",
       "      <td>0</td>\n",
       "      <td>0</td>\n",
       "      <td>0</td>\n",
       "      <td>2494</td>\n",
       "      <td>2338</td>\n",
       "    </tr>\n",
       "  </tbody>\n",
       "</table>\n",
       "</div>"
      ],
      "text/plain": [
       "     Received Packets  Received Bytes  Sent Bytes  Sent Packets  \\\n",
       "345               449         6335491       33279           289   \n",
       "\n",
       "     Port alive Duration (S)  Delta Received Packets  Delta Received Bytes  \\\n",
       "345                      284                       4                   556   \n",
       "\n",
       "     Delta Sent Bytes  Delta Sent Packets  Total Load/Rate  Total Load/Latest  \\\n",
       "345               560                   4                0                  0   \n",
       "\n",
       "     Unknown Load/Rate  Unknown Load/Latest  Latest bytes counter  \\\n",
       "345                  0                    0                     0   \n",
       "\n",
       "     Packets Looked Up  Packets Matched  \n",
       "345               2494             2338  "
      ]
     },
     "execution_count": 82,
     "metadata": {},
     "output_type": "execute_result"
    }
   ],
   "source": [
    "recover_from_json1 = pd.read_json(data_as_json1)\n",
    "recover_from_json1"
   ]
  },
  {
   "cell_type": "code",
   "execution_count": 84,
   "metadata": {},
   "outputs": [
    {
     "data": {
      "text/html": [
       "<div>\n",
       "<style scoped>\n",
       "    .dataframe tbody tr th:only-of-type {\n",
       "        vertical-align: middle;\n",
       "    }\n",
       "\n",
       "    .dataframe tbody tr th {\n",
       "        vertical-align: top;\n",
       "    }\n",
       "\n",
       "    .dataframe thead th {\n",
       "        text-align: right;\n",
       "    }\n",
       "</style>\n",
       "<table border=\"1\" class=\"dataframe\">\n",
       "  <thead>\n",
       "    <tr style=\"text-align: right;\">\n",
       "      <th></th>\n",
       "      <th>Received Packets</th>\n",
       "      <th>Received Bytes</th>\n",
       "      <th>Sent Bytes</th>\n",
       "      <th>Sent Packets</th>\n",
       "      <th>Port alive Duration (S)</th>\n",
       "      <th>Delta Received Packets</th>\n",
       "      <th>Delta Received Bytes</th>\n",
       "      <th>Delta Sent Bytes</th>\n",
       "      <th>Delta Sent Packets</th>\n",
       "      <th>Total Load/Rate</th>\n",
       "      <th>Total Load/Latest</th>\n",
       "      <th>Unknown Load/Rate</th>\n",
       "      <th>Unknown Load/Latest</th>\n",
       "      <th>Latest bytes counter</th>\n",
       "      <th>Packets Looked Up</th>\n",
       "      <th>Packets Matched</th>\n",
       "    </tr>\n",
       "  </thead>\n",
       "  <tbody>\n",
       "    <tr>\n",
       "      <th>0</th>\n",
       "      <td>449</td>\n",
       "      <td>6335491</td>\n",
       "      <td>33279</td>\n",
       "      <td>289</td>\n",
       "      <td>284</td>\n",
       "      <td>4</td>\n",
       "      <td>556</td>\n",
       "      <td>560</td>\n",
       "      <td>4</td>\n",
       "      <td>0</td>\n",
       "      <td>0</td>\n",
       "      <td>0</td>\n",
       "      <td>0</td>\n",
       "      <td>0</td>\n",
       "      <td>2494</td>\n",
       "      <td>2338</td>\n",
       "    </tr>\n",
       "  </tbody>\n",
       "</table>\n",
       "</div>"
      ],
      "text/plain": [
       "   Received Packets  Received Bytes  Sent Bytes  Sent Packets  \\\n",
       "0               449         6335491       33279           289   \n",
       "\n",
       "   Port alive Duration (S)  Delta Received Packets  Delta Received Bytes  \\\n",
       "0                      284                       4                   556   \n",
       "\n",
       "   Delta Sent Bytes  Delta Sent Packets  Total Load/Rate  Total Load/Latest  \\\n",
       "0               560                   4                0                  0   \n",
       "\n",
       "   Unknown Load/Rate  Unknown Load/Latest  Latest bytes counter  \\\n",
       "0                  0                    0                     0   \n",
       "\n",
       "   Packets Looked Up  Packets Matched  \n",
       "0               2494             2338  "
      ]
     },
     "execution_count": 84,
     "metadata": {},
     "output_type": "execute_result"
    }
   ],
   "source": [
    "recover_from_json3 = pd.read_json(data_as_json3,orient=\"records\")\n",
    "recover_from_json3"
   ]
  },
  {
   "cell_type": "code",
   "execution_count": 108,
   "metadata": {},
   "outputs": [
    {
     "data": {
      "text/plain": [
       "\"[{'Received Packets': 449, 'Received Bytes': 6335491, 'Sent Bytes': 33279, 'Sent Packets': 289, 'Port alive Duration (S)': 284, 'Delta Received Packets': 4, 'Delta Received Bytes': 556, 'Delta Sent Bytes': 560, 'Delta Sent Packets': 4, 'Total Load/Rate': 0, 'Total Load/Latest': 0, 'Unknown Load/Rate': 0, 'Unknown Load/Latest': 0, 'Latest bytes counter': 0, 'Packets Looked Up': 2494, 'Packets Matched': 2338}]\""
      ]
     },
     "execution_count": 108,
     "metadata": {},
     "output_type": "execute_result"
    }
   ],
   "source": [
    "str(datita)"
   ]
  },
  {
   "cell_type": "code",
   "execution_count": 109,
   "metadata": {},
   "outputs": [],
   "source": [
    "#mixdedata = pd.read_json(str(datita),orient=\"records\")  #not working"
   ]
  },
  {
   "cell_type": "code",
   "execution_count": 115,
   "metadata": {},
   "outputs": [
    {
     "data": {
      "text/plain": [
       "{'Received Packets': 449,\n",
       " 'Received Bytes': 6335491,\n",
       " 'Sent Bytes': 33279,\n",
       " 'Sent Packets': 289,\n",
       " 'Port alive Duration (S)': 284,\n",
       " 'Delta Received Packets': 4,\n",
       " 'Delta Received Bytes': 556,\n",
       " 'Delta Sent Bytes': 560,\n",
       " 'Delta Sent Packets': 4,\n",
       " 'Total Load/Rate': 0,\n",
       " 'Total Load/Latest': 0,\n",
       " 'Unknown Load/Rate': 0,\n",
       " 'Unknown Load/Latest': 0,\n",
       " 'Latest bytes counter': 0,\n",
       " 'Packets Looked Up': 2494,\n",
       " 'Packets Matched': 2338}"
      ]
     },
     "execution_count": 115,
     "metadata": {},
     "output_type": "execute_result"
    }
   ],
   "source": [
    "data_as_dict41"
   ]
  },
  {
   "cell_type": "markdown",
   "metadata": {},
   "source": [
    "## <span style= \"color:green\"> this is the way to input the data into the model </span>"
   ]
  },
  {
   "cell_type": "code",
   "execution_count": 114,
   "metadata": {},
   "outputs": [
    {
     "data": {
      "text/plain": [
       "[{'Received Packets': 449,\n",
       "  'Received Bytes': 6335491,\n",
       "  'Sent Bytes': 33279,\n",
       "  'Sent Packets': 289,\n",
       "  'Port alive Duration (S)': 284,\n",
       "  'Delta Received Packets': 4,\n",
       "  'Delta Received Bytes': 556,\n",
       "  'Delta Sent Bytes': 560,\n",
       "  'Delta Sent Packets': 4,\n",
       "  'Total Load/Rate': 0,\n",
       "  'Total Load/Latest': 0,\n",
       "  'Unknown Load/Rate': 0,\n",
       "  'Unknown Load/Latest': 0,\n",
       "  'Latest bytes counter': 0,\n",
       "  'Packets Looked Up': 2494,\n",
       "  'Packets Matched': 2338}]"
      ]
     },
     "execution_count": 114,
     "metadata": {},
     "output_type": "execute_result"
    }
   ],
   "source": [
    "datita = [] \n",
    "datita.append(data_as_dict41)\n",
    "datita"
   ]
  },
  {
   "cell_type": "code",
   "execution_count": 111,
   "metadata": {},
   "outputs": [
    {
     "data": {
      "text/html": [
       "<div>\n",
       "<style scoped>\n",
       "    .dataframe tbody tr th:only-of-type {\n",
       "        vertical-align: middle;\n",
       "    }\n",
       "\n",
       "    .dataframe tbody tr th {\n",
       "        vertical-align: top;\n",
       "    }\n",
       "\n",
       "    .dataframe thead th {\n",
       "        text-align: right;\n",
       "    }\n",
       "</style>\n",
       "<table border=\"1\" class=\"dataframe\">\n",
       "  <thead>\n",
       "    <tr style=\"text-align: right;\">\n",
       "      <th></th>\n",
       "      <th>Received Packets</th>\n",
       "      <th>Received Bytes</th>\n",
       "      <th>Sent Bytes</th>\n",
       "      <th>Sent Packets</th>\n",
       "      <th>Port alive Duration (S)</th>\n",
       "      <th>Delta Received Packets</th>\n",
       "      <th>Delta Received Bytes</th>\n",
       "      <th>Delta Sent Bytes</th>\n",
       "      <th>Delta Sent Packets</th>\n",
       "      <th>Total Load/Rate</th>\n",
       "      <th>Total Load/Latest</th>\n",
       "      <th>Unknown Load/Rate</th>\n",
       "      <th>Unknown Load/Latest</th>\n",
       "      <th>Latest bytes counter</th>\n",
       "      <th>Packets Looked Up</th>\n",
       "      <th>Packets Matched</th>\n",
       "    </tr>\n",
       "  </thead>\n",
       "  <tbody>\n",
       "    <tr>\n",
       "      <th>0</th>\n",
       "      <td>449</td>\n",
       "      <td>6335491</td>\n",
       "      <td>33279</td>\n",
       "      <td>289</td>\n",
       "      <td>284</td>\n",
       "      <td>4</td>\n",
       "      <td>556</td>\n",
       "      <td>560</td>\n",
       "      <td>4</td>\n",
       "      <td>0</td>\n",
       "      <td>0</td>\n",
       "      <td>0</td>\n",
       "      <td>0</td>\n",
       "      <td>0</td>\n",
       "      <td>2494</td>\n",
       "      <td>2338</td>\n",
       "    </tr>\n",
       "  </tbody>\n",
       "</table>\n",
       "</div>"
      ],
      "text/plain": [
       "   Received Packets  Received Bytes  Sent Bytes  Sent Packets  \\\n",
       "0               449         6335491       33279           289   \n",
       "\n",
       "   Port alive Duration (S)  Delta Received Packets  Delta Received Bytes  \\\n",
       "0                      284                       4                   556   \n",
       "\n",
       "   Delta Sent Bytes  Delta Sent Packets  Total Load/Rate  Total Load/Latest  \\\n",
       "0               560                   4                0                  0   \n",
       "\n",
       "   Unknown Load/Rate  Unknown Load/Latest  Latest bytes counter  \\\n",
       "0                  0                    0                     0   \n",
       "\n",
       "   Packets Looked Up  Packets Matched  \n",
       "0               2494             2338  "
      ]
     },
     "execution_count": 111,
     "metadata": {},
     "output_type": "execute_result"
    }
   ],
   "source": [
    "masdata2 = pd.DataFrame.from_dict(datita)\n",
    "masdata2"
   ]
  },
  {
   "cell_type": "code",
   "execution_count": 122,
   "metadata": {},
   "outputs": [
    {
     "data": {
      "text/html": [
       "<div>\n",
       "<style scoped>\n",
       "    .dataframe tbody tr th:only-of-type {\n",
       "        vertical-align: middle;\n",
       "    }\n",
       "\n",
       "    .dataframe tbody tr th {\n",
       "        vertical-align: top;\n",
       "    }\n",
       "\n",
       "    .dataframe thead th {\n",
       "        text-align: right;\n",
       "    }\n",
       "</style>\n",
       "<table border=\"1\" class=\"dataframe\">\n",
       "  <thead>\n",
       "    <tr style=\"text-align: right;\">\n",
       "      <th></th>\n",
       "      <th>Received Packets</th>\n",
       "      <th>Received Bytes</th>\n",
       "      <th>Sent Bytes</th>\n",
       "      <th>Sent Packets</th>\n",
       "      <th>Port alive Duration (S)</th>\n",
       "      <th>Delta Received Packets</th>\n",
       "      <th>Delta Received Bytes</th>\n",
       "      <th>Delta Sent Bytes</th>\n",
       "      <th>Delta Sent Packets</th>\n",
       "      <th>Total Load/Rate</th>\n",
       "      <th>Total Load/Latest</th>\n",
       "      <th>Unknown Load/Rate</th>\n",
       "      <th>Unknown Load/Latest</th>\n",
       "      <th>Latest bytes counter</th>\n",
       "      <th>Packets Looked Up</th>\n",
       "      <th>Packets Matched</th>\n",
       "    </tr>\n",
       "  </thead>\n",
       "  <tbody>\n",
       "    <tr>\n",
       "      <th>0</th>\n",
       "      <td>449</td>\n",
       "      <td>6335491</td>\n",
       "      <td>33279</td>\n",
       "      <td>289</td>\n",
       "      <td>284</td>\n",
       "      <td>4</td>\n",
       "      <td>556</td>\n",
       "      <td>560</td>\n",
       "      <td>4</td>\n",
       "      <td>0</td>\n",
       "      <td>0</td>\n",
       "      <td>0</td>\n",
       "      <td>0</td>\n",
       "      <td>0</td>\n",
       "      <td>2494</td>\n",
       "      <td>2338</td>\n",
       "    </tr>\n",
       "  </tbody>\n",
       "</table>\n",
       "</div>"
      ],
      "text/plain": [
       "   Received Packets  Received Bytes  Sent Bytes  Sent Packets  \\\n",
       "0               449         6335491       33279           289   \n",
       "\n",
       "   Port alive Duration (S)  Delta Received Packets  Delta Received Bytes  \\\n",
       "0                      284                       4                   556   \n",
       "\n",
       "   Delta Sent Bytes  Delta Sent Packets  Total Load/Rate  Total Load/Latest  \\\n",
       "0               560                   4                0                  0   \n",
       "\n",
       "   Unknown Load/Rate  Unknown Load/Latest  Latest bytes counter  \\\n",
       "0                  0                    0                     0   \n",
       "\n",
       "   Packets Looked Up  Packets Matched  \n",
       "0               2494             2338  "
      ]
     },
     "execution_count": 122,
     "metadata": {},
     "output_type": "execute_result"
    }
   ],
   "source": [
    "masdata2"
   ]
  },
  {
   "cell_type": "code",
   "execution_count": 113,
   "metadata": {},
   "outputs": [],
   "source": [
    "#masdata3 = pd.DataFrame.from_dict(data_as_dict41)   #not working\n"
   ]
  },
  {
   "cell_type": "code",
   "execution_count": 116,
   "metadata": {},
   "outputs": [],
   "source": [
    "newdata = {\"Received Packets\":449,\"Received Bytes\":6335491,\"Sent Bytes\":33279,\"Sent Packets\":289,\"Port alive Duration (S)\":284,\"Delta Received Packets\":4,\"Delta Received Bytes\":556,\"Delta Sent Bytes\":560,\"Delta Sent Packets\":4,\"Total Load\\\\/Rate\":0,\"Total Load\\\\/Latest\":0,\"Unknown Load\\\\/Rate\":0,\"Unknown Load\\\\/Latest\":0,\"Latest bytes counter\":0,\"Packets Looked Up\":2494,\"Packets Matched\":2338}"
   ]
  },
  {
   "cell_type": "code",
   "execution_count": 117,
   "metadata": {},
   "outputs": [
    {
     "data": {
      "text/plain": [
       "{'Received Packets': 449,\n",
       " 'Received Bytes': 6335491,\n",
       " 'Sent Bytes': 33279,\n",
       " 'Sent Packets': 289,\n",
       " 'Port alive Duration (S)': 284,\n",
       " 'Delta Received Packets': 4,\n",
       " 'Delta Received Bytes': 556,\n",
       " 'Delta Sent Bytes': 560,\n",
       " 'Delta Sent Packets': 4,\n",
       " 'Total Load\\\\/Rate': 0,\n",
       " 'Total Load\\\\/Latest': 0,\n",
       " 'Unknown Load\\\\/Rate': 0,\n",
       " 'Unknown Load\\\\/Latest': 0,\n",
       " 'Latest bytes counter': 0,\n",
       " 'Packets Looked Up': 2494,\n",
       " 'Packets Matched': 2338}"
      ]
     },
     "execution_count": 117,
     "metadata": {},
     "output_type": "execute_result"
    }
   ],
   "source": [
    "newdata"
   ]
  },
  {
   "cell_type": "code",
   "execution_count": 36,
   "metadata": {},
   "outputs": [
    {
     "data": {
      "text/plain": [
       "'[{\"Received Packets\":449,\"Received Bytes\":6335491,\"Sent Bytes\":33279,\"Sent Packets\":289,\"Port alive Duration (S)\":284,\"Delta Received Packets\":4,\"Delta Received Bytes\":556,\"Delta Sent Bytes\":560,\"Delta Sent Packets\":4,\"Total Load\\\\/Rate\":0,\"Total Load\\\\/Latest\":0,\"Unknown Load\\\\/Rate\":0,\"Unknown Load\\\\/Latest\":0,\"Latest bytes counter\":0,\"Packets Looked Up\":2494,\"Packets Matched\":2338}]'"
      ]
     },
     "execution_count": 36,
     "metadata": {},
     "output_type": "execute_result"
    }
   ],
   "source": [
    "data_as_json3"
   ]
  },
  {
   "cell_type": "code",
   "execution_count": 46,
   "metadata": {},
   "outputs": [
    {
     "data": {
      "text/plain": [
       "'[{\"Received Packets\":449,\"Received Bytes\":6335491,\"Sent Bytes\":33279,\"Sent Packets\":289,\"Port alive Duration (S)\":284,\"Delta Received Packets\":4,\"Delta Received Bytes\":556,\"Delta Sent Bytes\":560,\"Delta Sent Packets\":4,\"Total Load\\\\/Rate\":0,\"Total Load\\\\/Latest\":0,\"Unknown Load\\\\/Rate\":0,\"Unknown Load\\\\/Latest\":0,\"Latest bytes counter\":0,\"Packets Looked Up\":2494,\"Packets Matched\":2338}]'"
      ]
     },
     "execution_count": 46,
     "metadata": {},
     "output_type": "execute_result"
    }
   ],
   "source": [
    "str(data_as_json3)"
   ]
  },
  {
   "cell_type": "code",
   "execution_count": 49,
   "metadata": {},
   "outputs": [],
   "source": [
    "pattern = \"\\[(.*?)\\]\"\n",
    "g = re.search(r\"[(.*?)]\", str(data_as_json3))"
   ]
  },
  {
   "cell_type": "code",
   "execution_count": 50,
   "metadata": {},
   "outputs": [
    {
     "data": {
      "text/plain": [
       "<re.Match object; span=(109, 110), match='('>"
      ]
     },
     "execution_count": 50,
     "metadata": {},
     "output_type": "execute_result"
    }
   ],
   "source": [
    "g"
   ]
  },
  {
   "cell_type": "code",
   "execution_count": 131,
   "metadata": {},
   "outputs": [
    {
     "data": {
      "text/plain": [
       "[{'Received Packets': 449,\n",
       "  'Received Bytes': 6335491,\n",
       "  'Sent Bytes': 33279,\n",
       "  'Sent Packets': 289,\n",
       "  'Port alive Duration (S)': 284,\n",
       "  'Delta Received Packets': 4,\n",
       "  'Delta Received Bytes': 556,\n",
       "  'Delta Sent Bytes': 560,\n",
       "  'Delta Sent Packets': 4,\n",
       "  'Total Load\\\\/Rate': 0,\n",
       "  'Total Load\\\\/Latest': 0,\n",
       "  'Unknown Load\\\\/Rate': 0,\n",
       "  'Unknown Load\\\\/Latest': 0,\n",
       "  'Latest bytes counter': 0,\n",
       "  'Packets Looked Up': 2494,\n",
       "  'Packets Matched': 2338}]"
      ]
     },
     "execution_count": 131,
     "metadata": {},
     "output_type": "execute_result"
    }
   ],
   "source": [
    "equis = eval(data_as_json3)\n",
    "equis"
   ]
  },
  {
   "cell_type": "markdown",
   "metadata": {},
   "source": [
    "<span style = \"color:red\"> using pd to and from csv for saving and transfering dataframes. </span>"
   ]
  },
  {
   "cell_type": "code",
   "execution_count": 134,
   "metadata": {},
   "outputs": [
    {
     "data": {
      "text/html": [
       "<div>\n",
       "<style scoped>\n",
       "    .dataframe tbody tr th:only-of-type {\n",
       "        vertical-align: middle;\n",
       "    }\n",
       "\n",
       "    .dataframe tbody tr th {\n",
       "        vertical-align: top;\n",
       "    }\n",
       "\n",
       "    .dataframe thead th {\n",
       "        text-align: right;\n",
       "    }\n",
       "</style>\n",
       "<table border=\"1\" class=\"dataframe\">\n",
       "  <thead>\n",
       "    <tr style=\"text-align: right;\">\n",
       "      <th></th>\n",
       "      <th>Received Packets</th>\n",
       "      <th>Received Bytes</th>\n",
       "      <th>Sent Bytes</th>\n",
       "      <th>Sent Packets</th>\n",
       "      <th>Port alive Duration (S)</th>\n",
       "      <th>Delta Received Packets</th>\n",
       "      <th>Delta Received Bytes</th>\n",
       "      <th>Delta Sent Bytes</th>\n",
       "      <th>Delta Sent Packets</th>\n",
       "      <th>Total Load/Rate</th>\n",
       "      <th>Total Load/Latest</th>\n",
       "      <th>Unknown Load/Rate</th>\n",
       "      <th>Unknown Load/Latest</th>\n",
       "      <th>Latest bytes counter</th>\n",
       "      <th>Packets Looked Up</th>\n",
       "      <th>Packets Matched</th>\n",
       "    </tr>\n",
       "  </thead>\n",
       "  <tbody>\n",
       "    <tr>\n",
       "      <th>345</th>\n",
       "      <td>449</td>\n",
       "      <td>6335491</td>\n",
       "      <td>33279</td>\n",
       "      <td>289</td>\n",
       "      <td>284</td>\n",
       "      <td>4</td>\n",
       "      <td>556</td>\n",
       "      <td>560</td>\n",
       "      <td>4</td>\n",
       "      <td>0</td>\n",
       "      <td>0</td>\n",
       "      <td>0</td>\n",
       "      <td>0</td>\n",
       "      <td>0</td>\n",
       "      <td>2494</td>\n",
       "      <td>2338</td>\n",
       "    </tr>\n",
       "  </tbody>\n",
       "</table>\n",
       "</div>"
      ],
      "text/plain": [
       "     Received Packets  Received Bytes  Sent Bytes  Sent Packets  \\\n",
       "345               449         6335491       33279           289   \n",
       "\n",
       "     Port alive Duration (S)  Delta Received Packets  Delta Received Bytes  \\\n",
       "345                      284                       4                   556   \n",
       "\n",
       "     Delta Sent Bytes  Delta Sent Packets  Total Load/Rate  Total Load/Latest  \\\n",
       "345               560                   4                0                  0   \n",
       "\n",
       "     Unknown Load/Rate  Unknown Load/Latest  Latest bytes counter  \\\n",
       "345                  0                    0                     0   \n",
       "\n",
       "     Packets Looked Up  Packets Matched  \n",
       "345               2494             2338  "
      ]
     },
     "execution_count": 134,
     "metadata": {},
     "output_type": "execute_result"
    }
   ],
   "source": [
    "sample1"
   ]
  },
  {
   "cell_type": "code",
   "execution_count": 140,
   "metadata": {},
   "outputs": [
    {
     "name": "stdout",
     "output_type": "stream",
     "text": [
      "None\n"
     ]
    }
   ],
   "source": [
    "sample1.to_csv(\"sample1_as_csv.csv\")"
   ]
  },
  {
   "cell_type": "code",
   "execution_count": 137,
   "metadata": {},
   "outputs": [
    {
     "data": {
      "text/html": [
       "<div>\n",
       "<style scoped>\n",
       "    .dataframe tbody tr th:only-of-type {\n",
       "        vertical-align: middle;\n",
       "    }\n",
       "\n",
       "    .dataframe tbody tr th {\n",
       "        vertical-align: top;\n",
       "    }\n",
       "\n",
       "    .dataframe thead th {\n",
       "        text-align: right;\n",
       "    }\n",
       "</style>\n",
       "<table border=\"1\" class=\"dataframe\">\n",
       "  <thead>\n",
       "    <tr style=\"text-align: right;\">\n",
       "      <th></th>\n",
       "      <th>Unnamed: 0</th>\n",
       "      <th>Received Packets</th>\n",
       "      <th>Received Bytes</th>\n",
       "      <th>Sent Bytes</th>\n",
       "      <th>Sent Packets</th>\n",
       "      <th>Port alive Duration (S)</th>\n",
       "      <th>Delta Received Packets</th>\n",
       "      <th>Delta Received Bytes</th>\n",
       "      <th>Delta Sent Bytes</th>\n",
       "      <th>Delta Sent Packets</th>\n",
       "      <th>Total Load/Rate</th>\n",
       "      <th>Total Load/Latest</th>\n",
       "      <th>Unknown Load/Rate</th>\n",
       "      <th>Unknown Load/Latest</th>\n",
       "      <th>Latest bytes counter</th>\n",
       "      <th>Packets Looked Up</th>\n",
       "      <th>Packets Matched</th>\n",
       "    </tr>\n",
       "  </thead>\n",
       "  <tbody>\n",
       "    <tr>\n",
       "      <th>0</th>\n",
       "      <td>345</td>\n",
       "      <td>449</td>\n",
       "      <td>6335491</td>\n",
       "      <td>33279</td>\n",
       "      <td>289</td>\n",
       "      <td>284</td>\n",
       "      <td>4</td>\n",
       "      <td>556</td>\n",
       "      <td>560</td>\n",
       "      <td>4</td>\n",
       "      <td>0</td>\n",
       "      <td>0</td>\n",
       "      <td>0</td>\n",
       "      <td>0</td>\n",
       "      <td>0</td>\n",
       "      <td>2494</td>\n",
       "      <td>2338</td>\n",
       "    </tr>\n",
       "  </tbody>\n",
       "</table>\n",
       "</div>"
      ],
      "text/plain": [
       "   Unnamed: 0  Received Packets  Received Bytes  Sent Bytes  Sent Packets  \\\n",
       "0         345               449         6335491       33279           289   \n",
       "\n",
       "   Port alive Duration (S)  Delta Received Packets  Delta Received Bytes  \\\n",
       "0                      284                       4                   556   \n",
       "\n",
       "   Delta Sent Bytes  Delta Sent Packets  Total Load/Rate  Total Load/Latest  \\\n",
       "0               560                   4                0                  0   \n",
       "\n",
       "   Unknown Load/Rate  Unknown Load/Latest  Latest bytes counter  \\\n",
       "0                  0                    0                     0   \n",
       "\n",
       "   Packets Looked Up  Packets Matched  \n",
       "0               2494             2338  "
      ]
     },
     "execution_count": 137,
     "metadata": {},
     "output_type": "execute_result"
    }
   ],
   "source": [
    "sample1_as_csv = pd.read_csv(\"sample1_as_csv.csv\")\n",
    "sample1_as_csv"
   ]
  },
  {
   "cell_type": "code",
   "execution_count": null,
   "metadata": {},
   "outputs": [],
   "source": []
  },
  {
   "cell_type": "markdown",
   "metadata": {},
   "source": [
    "# <span style = \"color:blue\"> testing sample generator function. </span>"
   ]
  },
  {
   "cell_type": "code",
   "execution_count": 15,
   "metadata": {},
   "outputs": [],
   "source": [
    "def sample_generator2():\n",
    "    \"\"\"\n",
    "    Sample generator\n",
    "    \"\"\"\n",
    "    id = int(input(\"Enter id: \"))\n",
    "\n",
    "    sample_data_name = \"X_red_new_test_cat.csv\"\n",
    "    labels_data_name  = \"y_red_new_test_cat.csv\"\n",
    "    # sample_data_path = Path(BASE_DIR).joinpath(sample_data_name)\n",
    "    samples = pd.read_csv(sample_data_name)\n",
    "    labels = pd.read_csv(labels_data_name)\n",
    "    results_dict =    {\n",
    "                        1: 'Blackhole',\n",
    "                        2: 'Diversion',\n",
    "                        3: 'Normal',\n",
    "                        4: 'Overflow',\n",
    "                        5: 'PortScan',\n",
    "                        0: 'TCP-SYN'\n",
    "                        }\n",
    "    if id in range(samples.shape[0]):\n",
    "        sample = samples.iloc[[id]]\n",
    "        label = results_dict[int(labels.iloc[[id]].values)]\n",
    "        return sample , label\n",
    "    else:\n",
    "        print(\"Sample ID excedes number of samples\")"
   ]
  },
  {
   "cell_type": "code",
   "execution_count": 61,
   "metadata": {},
   "outputs": [
    {
     "data": {
      "text/plain": [
       "'Blackhole'"
      ]
     },
     "execution_count": 61,
     "metadata": {},
     "output_type": "execute_result"
    }
   ],
   "source": [
    "sample_generator(7002)[1]"
   ]
  },
  {
   "cell_type": "code",
   "execution_count": 14,
   "metadata": {},
   "outputs": [
    {
     "data": {
      "text/plain": [
       "'Blackhole'"
      ]
     },
     "execution_count": 14,
     "metadata": {},
     "output_type": "execute_result"
    }
   ],
   "source": [
    "sample_generator()[1]\n"
   ]
  },
  {
   "cell_type": "code",
   "execution_count": 2,
   "metadata": {},
   "outputs": [
    {
     "name": "stdout",
     "output_type": "stream",
     "text": [
      "Hello World\n"
     ]
    }
   ],
   "source": [
    "print(\"Hello World\")"
   ]
  }
 ],
 "metadata": {
  "kernelspec": {
   "display_name": "Python 3.8.13",
   "language": "python",
   "name": "python3"
  },
  "language_info": {
   "codemirror_mode": {
    "name": "ipython",
    "version": 3
   },
   "file_extension": ".py",
   "mimetype": "text/x-python",
   "name": "python",
   "nbconvert_exporter": "python",
   "pygments_lexer": "ipython3",
   "version": "3.8.13"
  },
  "orig_nbformat": 4,
  "vscode": {
   "interpreter": {
    "hash": "290095bb742939b88273a8583276d7630b426f870a564acf8afa069dfccd475a"
   }
  }
 },
 "nbformat": 4,
 "nbformat_minor": 2
}
