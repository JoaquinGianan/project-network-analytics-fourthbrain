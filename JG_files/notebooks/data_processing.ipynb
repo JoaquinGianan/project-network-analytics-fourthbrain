{
 "cells": [
  {
   "cell_type": "code",
   "execution_count": 1,
   "metadata": {},
   "outputs": [
    {
     "name": "stderr",
     "output_type": "stream",
     "text": [
      "/Users/joaquingianantonio/tensor_flow/env2/lib/python3.8/site-packages/scipy/__init__.py:146: UserWarning: A NumPy version >=1.16.5 and <1.23.0 is required for this version of SciPy (detected version 1.23.4\n",
      "  warnings.warn(f\"A NumPy version >={np_minversion} and <{np_maxversion}\"\n"
     ]
    },
    {
     "data": {
      "text/html": [
       "<svg  width=\"550\" height=\"55\"><rect x=\"0\" y=\"0\" width=\"55\" height=\"55\" style=\"fill:#1f77b4;stroke-width:2;stroke:rgb(255,255,255)\"/><rect x=\"55\" y=\"0\" width=\"55\" height=\"55\" style=\"fill:#ff7f0e;stroke-width:2;stroke:rgb(255,255,255)\"/><rect x=\"110\" y=\"0\" width=\"55\" height=\"55\" style=\"fill:#2ca02c;stroke-width:2;stroke:rgb(255,255,255)\"/><rect x=\"165\" y=\"0\" width=\"55\" height=\"55\" style=\"fill:#d62728;stroke-width:2;stroke:rgb(255,255,255)\"/><rect x=\"220\" y=\"0\" width=\"55\" height=\"55\" style=\"fill:#9467bd;stroke-width:2;stroke:rgb(255,255,255)\"/><rect x=\"275\" y=\"0\" width=\"55\" height=\"55\" style=\"fill:#8c564b;stroke-width:2;stroke:rgb(255,255,255)\"/><rect x=\"330\" y=\"0\" width=\"55\" height=\"55\" style=\"fill:#e377c2;stroke-width:2;stroke:rgb(255,255,255)\"/><rect x=\"385\" y=\"0\" width=\"55\" height=\"55\" style=\"fill:#7f7f7f;stroke-width:2;stroke:rgb(255,255,255)\"/><rect x=\"440\" y=\"0\" width=\"55\" height=\"55\" style=\"fill:#bcbd22;stroke-width:2;stroke:rgb(255,255,255)\"/><rect x=\"495\" y=\"0\" width=\"55\" height=\"55\" style=\"fill:#17becf;stroke-width:2;stroke:rgb(255,255,255)\"/></svg>"
      ],
      "text/plain": [
       "[(0.12156862745098039, 0.4666666666666667, 0.7058823529411765),\n",
       " (1.0, 0.4980392156862745, 0.054901960784313725),\n",
       " (0.17254901960784313, 0.6274509803921569, 0.17254901960784313),\n",
       " (0.8392156862745098, 0.15294117647058825, 0.1568627450980392),\n",
       " (0.5803921568627451, 0.403921568627451, 0.7411764705882353),\n",
       " (0.5490196078431373, 0.33725490196078434, 0.29411764705882354),\n",
       " (0.8901960784313725, 0.4666666666666667, 0.7607843137254902),\n",
       " (0.4980392156862745, 0.4980392156862745, 0.4980392156862745),\n",
       " (0.7372549019607844, 0.7411764705882353, 0.13333333333333333),\n",
       " (0.09019607843137255, 0.7450980392156863, 0.8117647058823529)]"
      ]
     },
     "execution_count": 1,
     "metadata": {},
     "output_type": "execute_result"
    }
   ],
   "source": [
    "# Imports\n",
    "\n",
    "import numpy as np\n",
    "import pandas as pd\n",
    "import matplotlib.pyplot as plt\n",
    "import seaborn as sns\n",
    "from collections import Counter\n",
    "import scipy.stats as stats\n",
    "sns.color_palette()"
   ]
  },
  {
   "cell_type": "code",
   "execution_count": 2,
   "metadata": {},
   "outputs": [],
   "source": [
    "pd.options.display.float_format = \"{:.2f}\".format"
   ]
  },
  {
   "cell_type": "code",
   "execution_count": 3,
   "metadata": {},
   "outputs": [
    {
     "name": "stdout",
     "output_type": "stream",
     "text": [
      "   37412 ../data/raw/UNR-IDD.csv\n"
     ]
    }
   ],
   "source": [
    "%%sh\n",
    "wc -l ../data/raw/UNR-IDD.csv"
   ]
  },
  {
   "cell_type": "code",
   "execution_count": 5,
   "metadata": {},
   "outputs": [],
   "source": [
    "#import data as pd dataframe\n",
    "rawdata_path = \"../data/raw/UNR-IDD.csv\"\n",
    "\n",
    "raw_df = pd.read_csv(rawdata_path)"
   ]
  },
  {
   "cell_type": "code",
   "execution_count": 6,
   "metadata": {},
   "outputs": [
    {
     "data": {
      "text/html": [
       "<div>\n",
       "<style scoped>\n",
       "    .dataframe tbody tr th:only-of-type {\n",
       "        vertical-align: middle;\n",
       "    }\n",
       "\n",
       "    .dataframe tbody tr th {\n",
       "        vertical-align: top;\n",
       "    }\n",
       "\n",
       "    .dataframe thead th {\n",
       "        text-align: right;\n",
       "    }\n",
       "</style>\n",
       "<table border=\"1\" class=\"dataframe\">\n",
       "  <thead>\n",
       "    <tr style=\"text-align: right;\">\n",
       "      <th></th>\n",
       "      <th>Switch ID</th>\n",
       "      <th>Port Number</th>\n",
       "      <th>Received Packets</th>\n",
       "      <th>Received Bytes</th>\n",
       "      <th>Sent Bytes</th>\n",
       "      <th>Sent Packets</th>\n",
       "      <th>Port alive Duration (S)</th>\n",
       "      <th>Packets Rx Dropped</th>\n",
       "      <th>Packets Tx Dropped</th>\n",
       "      <th>Packets Rx Errors</th>\n",
       "      <th>...</th>\n",
       "      <th>Unknown Load/Latest</th>\n",
       "      <th>Latest bytes counter</th>\n",
       "      <th>is_valid</th>\n",
       "      <th>Table ID</th>\n",
       "      <th>Active Flow Entries</th>\n",
       "      <th>Packets Looked Up</th>\n",
       "      <th>Packets Matched</th>\n",
       "      <th>Max Size</th>\n",
       "      <th>Label</th>\n",
       "      <th>Binary Label</th>\n",
       "    </tr>\n",
       "  </thead>\n",
       "  <tbody>\n",
       "    <tr>\n",
       "      <th>0</th>\n",
       "      <td>of:000000000000000c</td>\n",
       "      <td>Port#:1</td>\n",
       "      <td>132</td>\n",
       "      <td>9181</td>\n",
       "      <td>6311853</td>\n",
       "      <td>238</td>\n",
       "      <td>46</td>\n",
       "      <td>0</td>\n",
       "      <td>0</td>\n",
       "      <td>0</td>\n",
       "      <td>...</td>\n",
       "      <td>0</td>\n",
       "      <td>0</td>\n",
       "      <td>True</td>\n",
       "      <td>0</td>\n",
       "      <td>9</td>\n",
       "      <td>767</td>\n",
       "      <td>688</td>\n",
       "      <td>-1</td>\n",
       "      <td>TCP-SYN</td>\n",
       "      <td>Attack</td>\n",
       "    </tr>\n",
       "    <tr>\n",
       "      <th>1</th>\n",
       "      <td>of:000000000000000c</td>\n",
       "      <td>Port#:2</td>\n",
       "      <td>187</td>\n",
       "      <td>6304498</td>\n",
       "      <td>15713</td>\n",
       "      <td>171</td>\n",
       "      <td>46</td>\n",
       "      <td>0</td>\n",
       "      <td>0</td>\n",
       "      <td>0</td>\n",
       "      <td>...</td>\n",
       "      <td>0</td>\n",
       "      <td>0</td>\n",
       "      <td>True</td>\n",
       "      <td>0</td>\n",
       "      <td>9</td>\n",
       "      <td>767</td>\n",
       "      <td>688</td>\n",
       "      <td>-1</td>\n",
       "      <td>TCP-SYN</td>\n",
       "      <td>Attack</td>\n",
       "    </tr>\n",
       "    <tr>\n",
       "      <th>2</th>\n",
       "      <td>of:000000000000000c</td>\n",
       "      <td>Port#:3</td>\n",
       "      <td>235</td>\n",
       "      <td>6311567</td>\n",
       "      <td>8030</td>\n",
       "      <td>58</td>\n",
       "      <td>46</td>\n",
       "      <td>0</td>\n",
       "      <td>0</td>\n",
       "      <td>0</td>\n",
       "      <td>...</td>\n",
       "      <td>0</td>\n",
       "      <td>0</td>\n",
       "      <td>True</td>\n",
       "      <td>0</td>\n",
       "      <td>9</td>\n",
       "      <td>767</td>\n",
       "      <td>688</td>\n",
       "      <td>-1</td>\n",
       "      <td>TCP-SYN</td>\n",
       "      <td>Attack</td>\n",
       "    </tr>\n",
       "    <tr>\n",
       "      <th>3</th>\n",
       "      <td>of:000000000000000c</td>\n",
       "      <td>Port#:4</td>\n",
       "      <td>59</td>\n",
       "      <td>7878</td>\n",
       "      <td>16439</td>\n",
       "      <td>182</td>\n",
       "      <td>46</td>\n",
       "      <td>0</td>\n",
       "      <td>0</td>\n",
       "      <td>0</td>\n",
       "      <td>...</td>\n",
       "      <td>0</td>\n",
       "      <td>0</td>\n",
       "      <td>True</td>\n",
       "      <td>0</td>\n",
       "      <td>9</td>\n",
       "      <td>767</td>\n",
       "      <td>688</td>\n",
       "      <td>-1</td>\n",
       "      <td>TCP-SYN</td>\n",
       "      <td>Attack</td>\n",
       "    </tr>\n",
       "    <tr>\n",
       "      <th>4</th>\n",
       "      <td>of:000000000000000a</td>\n",
       "      <td>Port#:1</td>\n",
       "      <td>188</td>\n",
       "      <td>6304547</td>\n",
       "      <td>16497</td>\n",
       "      <td>183</td>\n",
       "      <td>46</td>\n",
       "      <td>0</td>\n",
       "      <td>0</td>\n",
       "      <td>0</td>\n",
       "      <td>...</td>\n",
       "      <td>0</td>\n",
       "      <td>0</td>\n",
       "      <td>True</td>\n",
       "      <td>0</td>\n",
       "      <td>7</td>\n",
       "      <td>489</td>\n",
       "      <td>403</td>\n",
       "      <td>-1</td>\n",
       "      <td>TCP-SYN</td>\n",
       "      <td>Attack</td>\n",
       "    </tr>\n",
       "  </tbody>\n",
       "</table>\n",
       "<p>5 rows × 34 columns</p>\n",
       "</div>"
      ],
      "text/plain": [
       "             Switch ID Port Number  Received Packets  Received Bytes  \\\n",
       "0  of:000000000000000c     Port#:1               132            9181   \n",
       "1  of:000000000000000c     Port#:2               187         6304498   \n",
       "2  of:000000000000000c     Port#:3               235         6311567   \n",
       "3  of:000000000000000c     Port#:4                59            7878   \n",
       "4  of:000000000000000a     Port#:1               188         6304547   \n",
       "\n",
       "   Sent Bytes  Sent Packets  Port alive Duration (S)  Packets Rx Dropped  \\\n",
       "0     6311853           238                       46                   0   \n",
       "1       15713           171                       46                   0   \n",
       "2        8030            58                       46                   0   \n",
       "3       16439           182                       46                   0   \n",
       "4       16497           183                       46                   0   \n",
       "\n",
       "   Packets Tx Dropped  Packets Rx Errors  ...  Unknown Load/Latest  \\\n",
       "0                   0                  0  ...                    0   \n",
       "1                   0                  0  ...                    0   \n",
       "2                   0                  0  ...                    0   \n",
       "3                   0                  0  ...                    0   \n",
       "4                   0                  0  ...                    0   \n",
       "\n",
       "   Latest bytes counter  is_valid  Table ID  Active Flow Entries  \\\n",
       "0                     0      True         0                    9   \n",
       "1                     0      True         0                    9   \n",
       "2                     0      True         0                    9   \n",
       "3                     0      True         0                    9   \n",
       "4                     0      True         0                    7   \n",
       "\n",
       "   Packets Looked Up  Packets Matched  Max Size    Label  Binary Label  \n",
       "0                767              688        -1  TCP-SYN        Attack  \n",
       "1                767              688        -1  TCP-SYN        Attack  \n",
       "2                767              688        -1  TCP-SYN        Attack  \n",
       "3                767              688        -1  TCP-SYN        Attack  \n",
       "4                489              403        -1  TCP-SYN        Attack  \n",
       "\n",
       "[5 rows x 34 columns]"
      ]
     },
     "execution_count": 6,
     "metadata": {},
     "output_type": "execute_result"
    }
   ],
   "source": [
    "raw_df.head()"
   ]
  },
  {
   "cell_type": "code",
   "execution_count": 10,
   "metadata": {},
   "outputs": [
    {
     "name": "stdout",
     "output_type": "stream",
     "text": [
      "categorical ['Switch ID', 'Port Number', 'Label', 'Binary Label'] \n",
      "numerical ['Received Packets', 'Received Bytes', 'Sent Bytes', 'Sent Packets', 'Port alive Duration (S)', 'Packets Rx Dropped', 'Packets Tx Dropped', 'Packets Rx Errors', 'Packets Tx Errors', 'Delta Received Packets', 'Delta Received Bytes', 'Delta Sent Bytes', 'Delta Sent Packets', 'Delta Port alive Duration (S)', 'Delta Packets Rx Dropped', ' Delta Packets Tx Dropped', 'Delta Packets Rx Errors', 'Delta Packets Tx Errors', 'Connection Point', 'Total Load/Rate', 'Total Load/Latest', 'Unknown Load/Rate', 'Unknown Load/Latest', 'Latest bytes counter', 'is_valid', 'Table ID', 'Active Flow Entries', 'Packets Looked Up', 'Packets Matched', 'Max Size']\n"
     ]
    }
   ],
   "source": [
    "# Numerical and categorical columns\n",
    "num_cols = list(raw_df._get_numeric_data().columns)\n",
    "categ_cols = [colum for colum in raw_df.columns if colum not in num_cols]  #easy way of getting the categorical column names\n",
    "print(\"categorical\",\n",
    "categ_cols , \"\\n\"\n",
    "\"numerical\",\n",
    "num_cols)"
   ]
  },
  {
   "cell_type": "code",
   "execution_count": 12,
   "metadata": {},
   "outputs": [
    {
     "data": {
      "text/plain": [
       "Index(['Switch ID', 'Port Number', 'Received Packets', 'Received Bytes',\n",
       "       'Sent Bytes', 'Sent Packets', 'Port alive Duration (S)',\n",
       "       'Packets Rx Dropped', 'Packets Tx Dropped', 'Packets Rx Errors',\n",
       "       'Packets Tx Errors', 'Delta Received Packets', 'Delta Received Bytes',\n",
       "       'Delta Sent Bytes', 'Delta Sent Packets',\n",
       "       'Delta Port alive Duration (S)', 'Delta Packets Rx Dropped',\n",
       "       ' Delta Packets Tx Dropped', 'Delta Packets Rx Errors',\n",
       "       'Delta Packets Tx Errors', 'Connection Point', 'Total Load/Rate',\n",
       "       'Total Load/Latest', 'Unknown Load/Rate', 'Unknown Load/Latest',\n",
       "       'Latest bytes counter', 'is_valid', 'Table ID', 'Active Flow Entries',\n",
       "       'Packets Looked Up', 'Packets Matched', 'Max Size', 'Label',\n",
       "       'Binary Label'],\n",
       "      dtype='object')"
      ]
     },
     "execution_count": 12,
     "metadata": {},
     "output_type": "execute_result"
    }
   ],
   "source": [
    "raw_df.columns"
   ]
  },
  {
   "cell_type": "code",
   "execution_count": 13,
   "metadata": {},
   "outputs": [
    {
     "data": {
      "text/plain": [
       "(37411, 34)"
      ]
     },
     "execution_count": 13,
     "metadata": {},
     "output_type": "execute_result"
    }
   ],
   "source": [
    "raw_df.shape"
   ]
  },
  {
   "cell_type": "code",
   "execution_count": 14,
   "metadata": {},
   "outputs": [],
   "source": [
    "# create reduced dataset without columns that provide no information.\n",
    "# dropping also switch  id and port id\n",
    "\n",
    "reduced_df = raw_df[[#'Switch ID', \n",
    "                        #'Port Number', \n",
    "                        'Received Packets', \n",
    "                        'Received Bytes', \n",
    "                        'Sent Bytes', \n",
    "                        'Sent Packets', \n",
    "                        'Port alive Duration (S)',\n",
    "                        #'Packets Rx Dropped', \n",
    "                        #'Packets Tx Dropped', \n",
    "                        #'Packets Rx Errors',\n",
    "                        #'Packets Tx Errors', \n",
    "                        'Delta Received Packets', \n",
    "                        'Delta Received Bytes',\n",
    "                        'Delta Sent Bytes', \n",
    "                        'Delta Sent Packets',\n",
    "                        'Delta Port alive Duration (S)', \n",
    "                        #'Delta Packets Rx Dropped',\n",
    "                        #' Delta Packets Tx Dropped', \n",
    "                        #'Delta Packets Rx Errors',\n",
    "                        #'Delta Packets Tx Errors', \n",
    "                        'Connection Point', \n",
    "                        'Total Load/Rate',\n",
    "                        'Total Load/Latest', \n",
    "                        'Unknown Load/Rate', \n",
    "                        'Unknown Load/Latest',\n",
    "                        'Latest bytes counter', \n",
    "                        #'is_valid', \n",
    "                        #'Table ID', \n",
    "                        'Active Flow Entries',\n",
    "                        'Packets Looked Up', \n",
    "                        'Packets Matched', \n",
    "                        #'Max Size', \n",
    "                        'Label',\n",
    "                        'Binary Label']]"
   ]
  },
  {
   "cell_type": "code",
   "execution_count": 15,
   "metadata": {},
   "outputs": [
    {
     "data": {
      "text/plain": [
       "(37411, 21)"
      ]
     },
     "execution_count": 15,
     "metadata": {},
     "output_type": "execute_result"
    }
   ],
   "source": [
    "reduced_df.shape"
   ]
  },
  {
   "cell_type": "code",
   "execution_count": 16,
   "metadata": {},
   "outputs": [],
   "source": [
    "# save reduced dataset\n",
    "\n",
    "reduced_df.to_csv(\"../data/processed/reduced_df.csv\")"
   ]
  },
  {
   "cell_type": "code",
   "execution_count": 28,
   "metadata": {},
   "outputs": [
    {
     "data": {
      "text/plain": [
       "(0    Attack\n",
       " 1    Attack\n",
       " 2    Attack\n",
       " 3    Attack\n",
       " 4    Attack\n",
       " Name: Binary Label, dtype: object,\n",
       " (37411,),\n",
       " 0    TCP-SYN\n",
       " 1    TCP-SYN\n",
       " 2    TCP-SYN\n",
       " 3    TCP-SYN\n",
       " 4    TCP-SYN\n",
       " Name: Label, dtype: object,\n",
       " (37411,))"
      ]
     },
     "execution_count": 28,
     "metadata": {},
     "output_type": "execute_result"
    }
   ],
   "source": [
    "# create the labels for binary labels and label\n",
    "\n",
    "labels_binlab = reduced_df[\"Binary Label\"]\n",
    "labels_labcat = reduced_df[\"Label\"]\n",
    "\n",
    "labels_binlab.head(), labels_binlab.shape, labels_labcat.head(), labels_labcat.shape"
   ]
  },
  {
   "cell_type": "code",
   "execution_count": 29,
   "metadata": {},
   "outputs": [
    {
     "data": {
      "text/plain": [
       "(array([1, 0]), array([6, 1, 2, 4, 3, 5]))"
      ]
     },
     "execution_count": 29,
     "metadata": {},
     "output_type": "execute_result"
    }
   ],
   "source": [
    "# encode the labels with values\n",
    "from sklearn.preprocessing import LabelEncoder\n",
    "le = LabelEncoder()\n",
    "\n",
    "labels_binlab = labels_binlab.replace(to_replace= [\"Attack\", \"Normal\"], value= [1 , 0])\n",
    "labels_labcat = labels_labcat.replace(to_replace= ['Blackhole', 'Diversion', 'Normal', 'Overflow', 'PortScan', 'TCP-SYN'], value= [1 , 2, 3, 4, 5, 6])\n",
    "\n",
    "labels_binlab.unique(), labels_labcat.unique()"
   ]
  },
  {
   "cell_type": "code",
   "execution_count": 32,
   "metadata": {},
   "outputs": [
    {
     "data": {
      "text/plain": [
       "(array([1, 1, 1, 1, 1, 1, 1, 1, 1, 1, 1, 1, 1, 1, 1, 1, 1, 1, 1, 1]),\n",
       " array([5, 5, 5, 5, 5, 5, 5, 5, 5, 5, 5, 5, 5, 5, 5, 5, 5, 5, 5, 5]))"
      ]
     },
     "execution_count": 32,
     "metadata": {},
     "output_type": "execute_result"
    }
   ],
   "source": [
    "ylab = le.fit_transform(labels_binlab)\n",
    "ycat = le.fit_transform(labels_labcat)\n",
    "\n",
    "ylab[:20] , ycat[:20]"
   ]
  },
  {
   "cell_type": "code",
   "execution_count": 19,
   "metadata": {},
   "outputs": [
    {
     "data": {
      "text/plain": [
       "(37411, 19)"
      ]
     },
     "execution_count": 19,
     "metadata": {},
     "output_type": "execute_result"
    }
   ],
   "source": [
    "# drop the label columns creating the reduced features dataframe\n",
    "r_features = reduced_df.drop(['Label', \"Binary Label\"], axis=1)\n",
    "\n",
    "r_features.shape\n"
   ]
  },
  {
   "cell_type": "code",
   "execution_count": 30,
   "metadata": {},
   "outputs": [],
   "source": [
    "# save all new dataframes\n",
    "\n",
    "r_features.to_csv(\"../data/processed/r_features.csv\")\n",
    "labels_binlab.to_csv(\"../data/processed/labels_binlab.csv\")\n",
    "labels_labcat.to_csv(\"../data/processed/labels_labcat.csv\")"
   ]
  },
  {
   "cell_type": "code",
   "execution_count": 33,
   "metadata": {},
   "outputs": [],
   "source": [
    "from sklearn.model_selection import train_test_split\n",
    "from sklearn.pipeline import Pipeline\n",
    "from sklearn.linear_model import LogisticRegression\n",
    "from sklearn.metrics import classification_report"
   ]
  },
  {
   "cell_type": "code",
   "execution_count": 34,
   "metadata": {},
   "outputs": [],
   "source": [
    "# separate data in train and test sets, using binlab labels.\n",
    "X_train_bin, X_test_bin, y_train_bin, y_test_bin = train_test_split(r_features,labels_binlab, random_state= 0 , test_size= 0.2)\n"
   ]
  },
  {
   "cell_type": "code",
   "execution_count": 48,
   "metadata": {},
   "outputs": [],
   "source": [
    "# save the test and train sets\n",
    "sets = [X_train_bin, X_test_bin, y_train_bin, y_test_bin]\n",
    "names = list(str(\"X_train_bin,X_test_bin,y_train_bin,y_test_bin\").split(','))\n",
    "for idx in range(len(sets)):\n",
    "    sets[idx].to_csv(\"../data/processed/\" + names[idx] + \".csv\")\n"
   ]
  },
  {
   "cell_type": "code",
   "execution_count": null,
   "metadata": {},
   "outputs": [],
   "source": []
  },
  {
   "cell_type": "code",
   "execution_count": null,
   "metadata": {},
   "outputs": [],
   "source": []
  },
  {
   "cell_type": "code",
   "execution_count": null,
   "metadata": {},
   "outputs": [],
   "source": []
  },
  {
   "cell_type": "code",
   "execution_count": null,
   "metadata": {},
   "outputs": [],
   "source": []
  }
 ],
 "metadata": {
  "kernelspec": {
   "display_name": "Python 3.8.13",
   "language": "python",
   "name": "python3"
  },
  "language_info": {
   "codemirror_mode": {
    "name": "ipython",
    "version": 3
   },
   "file_extension": ".py",
   "mimetype": "text/x-python",
   "name": "python",
   "nbconvert_exporter": "python",
   "pygments_lexer": "ipython3",
   "version": "3.8.13"
  },
  "orig_nbformat": 4,
  "vscode": {
   "interpreter": {
    "hash": "290095bb742939b88273a8583276d7630b426f870a564acf8afa069dfccd475a"
   }
  }
 },
 "nbformat": 4,
 "nbformat_minor": 2
}
