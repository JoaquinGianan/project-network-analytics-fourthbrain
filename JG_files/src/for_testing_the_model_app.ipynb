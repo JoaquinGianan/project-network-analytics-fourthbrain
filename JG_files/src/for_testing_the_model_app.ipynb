{
 "cells": [
  {
   "cell_type": "code",
   "execution_count": 1,
   "metadata": {},
   "outputs": [],
   "source": [
    "from pathlib import Path\n",
    "\n",
    "import joblib\n",
    "import pandas as pd\n",
    "import numpy as np\n",
    "\n",
    "\n",
    "\n",
    "import argparse\n"
   ]
  },
  {
   "cell_type": "code",
   "execution_count": 2,
   "metadata": {},
   "outputs": [
    {
     "name": "stdout",
     "output_type": "stream",
     "text": [
      "text\n"
     ]
    }
   ],
   "source": [
    "print(\"text\")"
   ]
  },
  {
   "cell_type": "code",
   "execution_count": 5,
   "metadata": {},
   "outputs": [
    {
     "data": {
      "text/plain": [
       "'inputted'"
      ]
     },
     "execution_count": 5,
     "metadata": {},
     "output_type": "execute_result"
    }
   ],
   "source": [
    "input()"
   ]
  },
  {
   "cell_type": "code",
   "execution_count": 6,
   "metadata": {},
   "outputs": [],
   "source": [
    "\n",
    "BASE_DIR = Path(\"model.py\").resolve(strict=True).parent\n"
   ]
  },
  {
   "cell_type": "code",
   "execution_count": 4,
   "metadata": {},
   "outputs": [],
   "source": [
    "\n",
    "\n",
    "results_sample = {\n",
    "            1: 'Blackhole',\n",
    "            2: 'Diversion',\n",
    "            3: 'Normal',\n",
    "            4: 'Overflow',\n",
    "            5: 'PortScan',\n",
    "            0: 'TCP-SYN'\n",
    "            }\n",
    "\n"
   ]
  },
  {
   "cell_type": "code",
   "execution_count": 6,
   "metadata": {},
   "outputs": [],
   "source": [
    "\n",
    "def predict(sample):   \n",
    "    model_name = \"model_jg_01.joblib\"\n",
    "    model_file = Path(BASE_DIR).joinpath(model_name)\n",
    "    if not model_file.exists():\n",
    "        return False\n",
    "\n",
    "    model = joblib.load(model_file)\n",
    "\n",
    "    results_dict =    {\n",
    "                        1: 'Blackhole',\n",
    "                        2: 'Diversion',\n",
    "                        3: 'Normal',\n",
    "                        4: 'Overflow',\n",
    "                        5: 'PortScan',\n",
    "                        0: 'TCP-SYN'\n",
    "                        }\n",
    "\n",
    "    result_sample = results_dict[model.predict(sample)[0]]\n",
    "\n",
    "    return result_sample"
   ]
  },
  {
   "cell_type": "code",
   "execution_count": 8,
   "metadata": {},
   "outputs": [],
   "source": [
    "X_samples = pd.read_csv(\"../data/processed/X_red_new_test_cat.csv\")"
   ]
  },
  {
   "cell_type": "code",
   "execution_count": 9,
   "metadata": {},
   "outputs": [],
   "source": [
    "y_sample = pd.read_csv(\"../data/processed/y_red_new_test_cat.csv\")"
   ]
  },
  {
   "cell_type": "code",
   "execution_count": 10,
   "metadata": {},
   "outputs": [],
   "source": [
    "sample_number = 345\n",
    "sample = X_samples.iloc[[sample_number]]\n",
    "tag_sample = y_sample.iloc[[sample_number]]"
   ]
  },
  {
   "cell_type": "code",
   "execution_count": 14,
   "metadata": {},
   "outputs": [
    {
     "data": {
      "text/plain": [
       "'Diversion'"
      ]
     },
     "execution_count": 14,
     "metadata": {},
     "output_type": "execute_result"
    }
   ],
   "source": [
    "predict(sample)"
   ]
  },
  {
   "cell_type": "code",
   "execution_count": 32,
   "metadata": {},
   "outputs": [
    {
     "data": {
      "text/plain": [
       "'Diversion'"
      ]
     },
     "execution_count": 32,
     "metadata": {},
     "output_type": "execute_result"
    }
   ],
   "source": [
    "#check\n",
    "results_sample[int(tag_sample[\"Label\"])]"
   ]
  },
  {
   "cell_type": "code",
   "execution_count": null,
   "metadata": {},
   "outputs": [],
   "source": [
    "sample_number = 345\n",
    "sample = X_samples.iloc[[sample_number]]\n",
    "tag_sample = y_sample.iloc[[sample_number]]"
   ]
  }
 ],
 "metadata": {
  "kernelspec": {
   "display_name": "Python 3.8.13",
   "language": "python",
   "name": "python3"
  },
  "language_info": {
   "codemirror_mode": {
    "name": "ipython",
    "version": 3
   },
   "file_extension": ".py",
   "mimetype": "text/x-python",
   "name": "python",
   "nbconvert_exporter": "python",
   "pygments_lexer": "ipython3",
   "version": "3.8.13"
  },
  "orig_nbformat": 4,
  "vscode": {
   "interpreter": {
    "hash": "290095bb742939b88273a8583276d7630b426f870a564acf8afa069dfccd475a"
   }
  }
 },
 "nbformat": 4,
 "nbformat_minor": 2
}
